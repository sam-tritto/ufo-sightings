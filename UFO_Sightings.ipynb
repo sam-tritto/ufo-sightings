{
 "cells": [
  {
   "cell_type": "code",
   "execution_count": null,
   "id": "84ea48ae",
   "metadata": {},
   "outputs": [],
   "source": []
  },
  {
   "cell_type": "markdown",
   "id": "8f4343b3",
   "metadata": {},
   "source": [
    "# UFO Sightings"
   ]
  },
  {
   "cell_type": "code",
   "execution_count": 5,
   "id": "5d622ea5",
   "metadata": {},
   "outputs": [],
   "source": [
    "import pandas as pd \n",
    "import numpy as np\n",
    "\n",
    "import plotly.express as px"
   ]
  },
  {
   "cell_type": "code",
   "execution_count": null,
   "id": "1b951878",
   "metadata": {},
   "outputs": [],
   "source": []
  },
  {
   "cell_type": "code",
   "execution_count": 117,
   "id": "1a997416",
   "metadata": {},
   "outputs": [
    {
     "data": {
      "text/html": [
       "<div>\n",
       "<style scoped>\n",
       "    .dataframe tbody tr th:only-of-type {\n",
       "        vertical-align: middle;\n",
       "    }\n",
       "\n",
       "    .dataframe tbody tr th {\n",
       "        vertical-align: top;\n",
       "    }\n",
       "\n",
       "    .dataframe thead th {\n",
       "        text-align: right;\n",
       "    }\n",
       "</style>\n",
       "<table border=\"1\" class=\"dataframe\">\n",
       "  <thead>\n",
       "    <tr style=\"text-align: right;\">\n",
       "      <th></th>\n",
       "      <th>datetime</th>\n",
       "      <th>city</th>\n",
       "      <th>state</th>\n",
       "      <th>country</th>\n",
       "      <th>shape</th>\n",
       "      <th>duration (seconds)</th>\n",
       "      <th>duration (hours/min)</th>\n",
       "      <th>comments</th>\n",
       "      <th>date posted</th>\n",
       "      <th>latitude</th>\n",
       "      <th>longitude</th>\n",
       "    </tr>\n",
       "  </thead>\n",
       "  <tbody>\n",
       "    <tr>\n",
       "      <th>0</th>\n",
       "      <td>10/10/1949 20:30</td>\n",
       "      <td>san marcos</td>\n",
       "      <td>tx</td>\n",
       "      <td>us</td>\n",
       "      <td>cylinder</td>\n",
       "      <td>2700</td>\n",
       "      <td>45 minutes</td>\n",
       "      <td>This event took place in early fall around 194...</td>\n",
       "      <td>4/27/2004</td>\n",
       "      <td>29.8830556</td>\n",
       "      <td>-97.941111</td>\n",
       "    </tr>\n",
       "    <tr>\n",
       "      <th>1</th>\n",
       "      <td>10/10/1949 21:00</td>\n",
       "      <td>lackland afb</td>\n",
       "      <td>tx</td>\n",
       "      <td>NaN</td>\n",
       "      <td>light</td>\n",
       "      <td>7200</td>\n",
       "      <td>1-2 hrs</td>\n",
       "      <td>1949 Lackland AFB&amp;#44 TX.  Lights racing acros...</td>\n",
       "      <td>12/16/2005</td>\n",
       "      <td>29.38421</td>\n",
       "      <td>-98.581082</td>\n",
       "    </tr>\n",
       "    <tr>\n",
       "      <th>2</th>\n",
       "      <td>10/10/1955 17:00</td>\n",
       "      <td>chester (uk/england)</td>\n",
       "      <td>NaN</td>\n",
       "      <td>gb</td>\n",
       "      <td>circle</td>\n",
       "      <td>20</td>\n",
       "      <td>20 seconds</td>\n",
       "      <td>Green/Orange circular disc over Chester&amp;#44 En...</td>\n",
       "      <td>1/21/2008</td>\n",
       "      <td>53.2</td>\n",
       "      <td>-2.916667</td>\n",
       "    </tr>\n",
       "    <tr>\n",
       "      <th>3</th>\n",
       "      <td>10/10/1956 21:00</td>\n",
       "      <td>edna</td>\n",
       "      <td>tx</td>\n",
       "      <td>us</td>\n",
       "      <td>circle</td>\n",
       "      <td>20</td>\n",
       "      <td>1/2 hour</td>\n",
       "      <td>My older brother and twin sister were leaving ...</td>\n",
       "      <td>1/17/2004</td>\n",
       "      <td>28.9783333</td>\n",
       "      <td>-96.645833</td>\n",
       "    </tr>\n",
       "    <tr>\n",
       "      <th>4</th>\n",
       "      <td>10/10/1960 20:00</td>\n",
       "      <td>kaneohe</td>\n",
       "      <td>hi</td>\n",
       "      <td>us</td>\n",
       "      <td>light</td>\n",
       "      <td>900</td>\n",
       "      <td>15 minutes</td>\n",
       "      <td>AS a Marine 1st Lt. flying an FJ4B fighter/att...</td>\n",
       "      <td>1/22/2004</td>\n",
       "      <td>21.4180556</td>\n",
       "      <td>-157.803611</td>\n",
       "    </tr>\n",
       "    <tr>\n",
       "      <th>...</th>\n",
       "      <td>...</td>\n",
       "      <td>...</td>\n",
       "      <td>...</td>\n",
       "      <td>...</td>\n",
       "      <td>...</td>\n",
       "      <td>...</td>\n",
       "      <td>...</td>\n",
       "      <td>...</td>\n",
       "      <td>...</td>\n",
       "      <td>...</td>\n",
       "      <td>...</td>\n",
       "    </tr>\n",
       "    <tr>\n",
       "      <th>80327</th>\n",
       "      <td>9/9/2013 21:15</td>\n",
       "      <td>nashville</td>\n",
       "      <td>tn</td>\n",
       "      <td>us</td>\n",
       "      <td>light</td>\n",
       "      <td>600</td>\n",
       "      <td>10 minutes</td>\n",
       "      <td>Round from the distance/slowly changing colors...</td>\n",
       "      <td>9/30/2013</td>\n",
       "      <td>36.1658333</td>\n",
       "      <td>-86.784444</td>\n",
       "    </tr>\n",
       "    <tr>\n",
       "      <th>80328</th>\n",
       "      <td>9/9/2013 22:00</td>\n",
       "      <td>boise</td>\n",
       "      <td>id</td>\n",
       "      <td>us</td>\n",
       "      <td>circle</td>\n",
       "      <td>1200</td>\n",
       "      <td>20 minutes</td>\n",
       "      <td>Boise&amp;#44 ID&amp;#44 spherical&amp;#44 20 min&amp;#44 10 r...</td>\n",
       "      <td>9/30/2013</td>\n",
       "      <td>43.6136111</td>\n",
       "      <td>-116.202500</td>\n",
       "    </tr>\n",
       "    <tr>\n",
       "      <th>80329</th>\n",
       "      <td>9/9/2013 22:00</td>\n",
       "      <td>napa</td>\n",
       "      <td>ca</td>\n",
       "      <td>us</td>\n",
       "      <td>other</td>\n",
       "      <td>1200</td>\n",
       "      <td>hour</td>\n",
       "      <td>Napa UFO&amp;#44</td>\n",
       "      <td>9/30/2013</td>\n",
       "      <td>38.2972222</td>\n",
       "      <td>-122.284444</td>\n",
       "    </tr>\n",
       "    <tr>\n",
       "      <th>80330</th>\n",
       "      <td>9/9/2013 22:20</td>\n",
       "      <td>vienna</td>\n",
       "      <td>va</td>\n",
       "      <td>us</td>\n",
       "      <td>circle</td>\n",
       "      <td>5</td>\n",
       "      <td>5 seconds</td>\n",
       "      <td>Saw a five gold lit cicular craft moving fastl...</td>\n",
       "      <td>9/30/2013</td>\n",
       "      <td>38.9011111</td>\n",
       "      <td>-77.265556</td>\n",
       "    </tr>\n",
       "    <tr>\n",
       "      <th>80331</th>\n",
       "      <td>9/9/2013 23:00</td>\n",
       "      <td>edmond</td>\n",
       "      <td>ok</td>\n",
       "      <td>us</td>\n",
       "      <td>cigar</td>\n",
       "      <td>1020</td>\n",
       "      <td>17 minutes</td>\n",
       "      <td>2 witnesses 2  miles apart&amp;#44 Red &amp;amp; White...</td>\n",
       "      <td>9/30/2013</td>\n",
       "      <td>35.6527778</td>\n",
       "      <td>-97.477778</td>\n",
       "    </tr>\n",
       "  </tbody>\n",
       "</table>\n",
       "<p>80332 rows × 11 columns</p>\n",
       "</div>"
      ],
      "text/plain": [
       "               datetime                  city state country     shape  \\\n",
       "0      10/10/1949 20:30            san marcos    tx      us  cylinder   \n",
       "1      10/10/1949 21:00          lackland afb    tx     NaN     light   \n",
       "2      10/10/1955 17:00  chester (uk/england)   NaN      gb    circle   \n",
       "3      10/10/1956 21:00                  edna    tx      us    circle   \n",
       "4      10/10/1960 20:00               kaneohe    hi      us     light   \n",
       "...                 ...                   ...   ...     ...       ...   \n",
       "80327    9/9/2013 21:15             nashville    tn      us     light   \n",
       "80328    9/9/2013 22:00                 boise    id      us    circle   \n",
       "80329    9/9/2013 22:00                  napa    ca      us     other   \n",
       "80330    9/9/2013 22:20                vienna    va      us    circle   \n",
       "80331    9/9/2013 23:00                edmond    ok      us     cigar   \n",
       "\n",
       "      duration (seconds) duration (hours/min)  \\\n",
       "0                   2700           45 minutes   \n",
       "1                   7200              1-2 hrs   \n",
       "2                     20           20 seconds   \n",
       "3                     20             1/2 hour   \n",
       "4                    900           15 minutes   \n",
       "...                  ...                  ...   \n",
       "80327                600           10 minutes   \n",
       "80328               1200           20 minutes   \n",
       "80329               1200                 hour   \n",
       "80330                  5            5 seconds   \n",
       "80331               1020           17 minutes   \n",
       "\n",
       "                                                comments date posted  \\\n",
       "0      This event took place in early fall around 194...   4/27/2004   \n",
       "1      1949 Lackland AFB&#44 TX.  Lights racing acros...  12/16/2005   \n",
       "2      Green/Orange circular disc over Chester&#44 En...   1/21/2008   \n",
       "3      My older brother and twin sister were leaving ...   1/17/2004   \n",
       "4      AS a Marine 1st Lt. flying an FJ4B fighter/att...   1/22/2004   \n",
       "...                                                  ...         ...   \n",
       "80327  Round from the distance/slowly changing colors...   9/30/2013   \n",
       "80328  Boise&#44 ID&#44 spherical&#44 20 min&#44 10 r...   9/30/2013   \n",
       "80329                                       Napa UFO&#44   9/30/2013   \n",
       "80330  Saw a five gold lit cicular craft moving fastl...   9/30/2013   \n",
       "80331  2 witnesses 2  miles apart&#44 Red &amp; White...   9/30/2013   \n",
       "\n",
       "         latitude  longitude   \n",
       "0      29.8830556  -97.941111  \n",
       "1        29.38421  -98.581082  \n",
       "2            53.2   -2.916667  \n",
       "3      28.9783333  -96.645833  \n",
       "4      21.4180556 -157.803611  \n",
       "...           ...         ...  \n",
       "80327  36.1658333  -86.784444  \n",
       "80328  43.6136111 -116.202500  \n",
       "80329  38.2972222 -122.284444  \n",
       "80330  38.9011111  -77.265556  \n",
       "80331  35.6527778  -97.477778  \n",
       "\n",
       "[80332 rows x 11 columns]"
      ]
     },
     "execution_count": 117,
     "metadata": {},
     "output_type": "execute_result"
    }
   ],
   "source": [
    "df = pd.read_csv('scrubbed.csv', low_memory=False)\n",
    "df"
   ]
  },
  {
   "cell_type": "code",
   "execution_count": 118,
   "id": "303ecaac",
   "metadata": {},
   "outputs": [
    {
     "name": "stdout",
     "output_type": "stream",
     "text": [
      "<class 'pandas.core.frame.DataFrame'>\n",
      "RangeIndex: 80332 entries, 0 to 80331\n",
      "Data columns (total 11 columns):\n",
      " #   Column                Non-Null Count  Dtype  \n",
      "---  ------                --------------  -----  \n",
      " 0   datetime              80332 non-null  object \n",
      " 1   city                  80332 non-null  object \n",
      " 2   state                 74535 non-null  object \n",
      " 3   country               70662 non-null  object \n",
      " 4   shape                 78400 non-null  object \n",
      " 5   duration (seconds)    80332 non-null  object \n",
      " 6   duration (hours/min)  80332 non-null  object \n",
      " 7   comments              80317 non-null  object \n",
      " 8   date posted           80332 non-null  object \n",
      " 9   latitude              80332 non-null  object \n",
      " 10  longitude             80332 non-null  float64\n",
      "dtypes: float64(1), object(10)\n",
      "memory usage: 6.7+ MB\n"
     ]
    }
   ],
   "source": [
    "df.info()"
   ]
  },
  {
   "cell_type": "code",
   "execution_count": null,
   "id": "998d31f4",
   "metadata": {},
   "outputs": [],
   "source": [
    "# Convert to datetime\n",
    "df['datetime'] = pd.to_datetime(df['datetime'], errors='coerce')"
   ]
  },
  {
   "cell_type": "code",
   "execution_count": null,
   "id": "5cd15803",
   "metadata": {},
   "outputs": [],
   "source": [
    "# Create year column\n",
    "df.insert(1, 'year', df['datetime'].dt.year)"
   ]
  },
  {
   "cell_type": "code",
   "execution_count": null,
   "id": "ceac298f",
   "metadata": {},
   "outputs": [],
   "source": [
    "# As integer\n",
    "df['year'] = df['year'].fillna(0).astype('Int64')"
   ]
  },
  {
   "cell_type": "code",
   "execution_count": null,
   "id": "1a20bbdd",
   "metadata": {},
   "outputs": [],
   "source": [
    "# Convert to datetime\n",
    "df['date posted'] = pd.to_datetime(df['date posted'], errors='coerce').dt.date"
   ]
  },
  {
   "cell_type": "code",
   "execution_count": null,
   "id": "909b4249",
   "metadata": {},
   "outputs": [],
   "source": [
    "# Title case\n",
    "df['city'] = df['city'].str.title()"
   ]
  },
  {
   "cell_type": "code",
   "execution_count": null,
   "id": "6f043fbb",
   "metadata": {},
   "outputs": [],
   "source": [
    "# Upper case\n",
    "df['state'] = df['state'].str.upper()"
   ]
  },
  {
   "cell_type": "code",
   "execution_count": null,
   "id": "f2303f3a",
   "metadata": {},
   "outputs": [],
   "source": [
    "# Coerce numeric\n",
    "df['latitude'] = pd.to_numeric(df['latitude'], errors='coerce')"
   ]
  },
  {
   "cell_type": "code",
   "execution_count": null,
   "id": "bd61ad25",
   "metadata": {},
   "outputs": [],
   "source": [
    "# Column name\n",
    "df = df.rename(columns={'longitude ':'longitude'})"
   ]
  },
  {
   "cell_type": "code",
   "execution_count": null,
   "id": "4db77fbd",
   "metadata": {},
   "outputs": [
    {
     "name": "stderr",
     "output_type": "stream",
     "text": [
      "<>:11: SyntaxWarning: invalid escape sequence '\\('\n",
      "<>:11: SyntaxWarning: invalid escape sequence '\\('\n",
      "/var/folders/r4/fdchq33x2vg7z1_7dstrhrn80000gn/T/ipykernel_13990/3799543497.py:11: SyntaxWarning: invalid escape sequence '\\('\n",
      "  df = df[df['city'].str.contains('\\(Canada\\)|\\(Mexico\\)') == False]\n"
     ]
    }
   ],
   "source": [
    "# Filter to US\n",
    "us_states = np.asarray(['AK', 'AL', 'AR', 'AZ', 'CA', 'CO', 'CT', 'DC', 'DE', 'FL', 'GA',\n",
    "                        'HI', 'IA', 'ID', 'IL', 'IN', 'KS', 'KY', 'LA', 'MA', 'MD', 'ME',\n",
    "                        'MI', 'MN', 'MO', 'MS', 'MT', 'NC', 'ND', 'NE', 'NH', 'NJ', 'NM',\n",
    "                        'NV', 'NY', 'OH', 'OK', 'OR', 'PA', 'RI', 'SC', 'SD', 'TN', 'TX',\n",
    "                        'UT', 'VA', 'VT', 'WA', 'WI', 'WV', 'WY'])\n",
    "\n",
    "# UFO sightings in United States only (70,805 rows)\n",
    "df = df[df['state'].isin(us_states)].sort_values('year')\n",
    "df = df[(df.latitude > 15) & (df.longitude < -65)]\n",
    "df = df[(df.latitude > 50) & (df.longitude > -125) == False]\n",
    "df = df[df['city'].str.contains('\\(Canada\\)|\\(Mexico\\)') == False]\n"
   ]
  },
  {
   "cell_type": "code",
   "execution_count": null,
   "id": "6d9ac6d2",
   "metadata": {},
   "outputs": [],
   "source": [
    "# Remove null years\n",
    "df = df[df['year']!=0]"
   ]
  },
  {
   "cell_type": "code",
   "execution_count": null,
   "id": "9eec5010",
   "metadata": {},
   "outputs": [],
   "source": [
    "# Country column\n",
    "df['country'] = 'US'"
   ]
  },
  {
   "cell_type": "code",
   "execution_count": null,
   "id": "b862bed6",
   "metadata": {},
   "outputs": [],
   "source": [
    "# Coulmn names\n",
    "df = df.rename(columns = {'duration (seconds)':'duration_seconds', \t\n",
    "                            'duration (hours/min)':'duration',\n",
    "                            'date posted':'date_posted'})"
   ]
  },
  {
   "cell_type": "code",
   "execution_count": null,
   "id": "bbd5b352",
   "metadata": {},
   "outputs": [],
   "source": [
    "# Remove ticks\n",
    "df['duration_seconds'] = df['duration_seconds'].apply(lambda x: x.replace('`', ''))\n",
    "df['duration_seconds'] = df['duration_seconds'].astype('float64')"
   ]
  },
  {
   "cell_type": "code",
   "execution_count": null,
   "id": "17a2f420",
   "metadata": {},
   "outputs": [],
   "source": [
    "# Convert seconds to minutes\n",
    "df['duration'] = df['duration_seconds'] / 60"
   ]
  },
  {
   "cell_type": "code",
   "execution_count": 133,
   "id": "50b0cd2e",
   "metadata": {},
   "outputs": [
    {
     "name": "stdout",
     "output_type": "stream",
     "text": [
      "<class 'pandas.core.frame.DataFrame'>\n",
      "Index: 70257 entries, 46858 to 27773\n",
      "Data columns (total 12 columns):\n",
      " #   Column            Non-Null Count  Dtype         \n",
      "---  ------            --------------  -----         \n",
      " 0   datetime          70257 non-null  datetime64[ns]\n",
      " 1   year              70257 non-null  Int64         \n",
      " 2   city              70257 non-null  object        \n",
      " 3   state             70257 non-null  object        \n",
      " 4   country           70257 non-null  object        \n",
      " 5   shape             68568 non-null  object        \n",
      " 6   duration_seconds  70257 non-null  float64       \n",
      " 7   duration          70257 non-null  float64       \n",
      " 8   comments          70244 non-null  object        \n",
      " 9   date_posted       70257 non-null  object        \n",
      " 10  latitude          70257 non-null  float64       \n",
      " 11  longitude         70257 non-null  float64       \n",
      "dtypes: Int64(1), datetime64[ns](1), float64(4), object(6)\n",
      "memory usage: 7.0+ MB\n"
     ]
    }
   ],
   "source": [
    "df.info()"
   ]
  },
  {
   "cell_type": "code",
   "execution_count": 134,
   "id": "024be320",
   "metadata": {},
   "outputs": [],
   "source": [
    "df = df.reset_index(drop=True)"
   ]
  },
  {
   "cell_type": "code",
   "execution_count": 135,
   "id": "dc66a576",
   "metadata": {},
   "outputs": [
    {
     "data": {
      "text/html": [
       "<div>\n",
       "<style scoped>\n",
       "    .dataframe tbody tr th:only-of-type {\n",
       "        vertical-align: middle;\n",
       "    }\n",
       "\n",
       "    .dataframe tbody tr th {\n",
       "        vertical-align: top;\n",
       "    }\n",
       "\n",
       "    .dataframe thead th {\n",
       "        text-align: right;\n",
       "    }\n",
       "</style>\n",
       "<table border=\"1\" class=\"dataframe\">\n",
       "  <thead>\n",
       "    <tr style=\"text-align: right;\">\n",
       "      <th></th>\n",
       "      <th>datetime</th>\n",
       "      <th>year</th>\n",
       "      <th>city</th>\n",
       "      <th>state</th>\n",
       "      <th>country</th>\n",
       "      <th>shape</th>\n",
       "      <th>duration_seconds</th>\n",
       "      <th>duration</th>\n",
       "      <th>comments</th>\n",
       "      <th>date_posted</th>\n",
       "      <th>latitude</th>\n",
       "      <th>longitude</th>\n",
       "    </tr>\n",
       "  </thead>\n",
       "  <tbody>\n",
       "    <tr>\n",
       "      <th>0</th>\n",
       "      <td>1910-06-01 15:00:00</td>\n",
       "      <td>1910</td>\n",
       "      <td>Wills Point</td>\n",
       "      <td>TX</td>\n",
       "      <td>US</td>\n",
       "      <td>cigar</td>\n",
       "      <td>120.0</td>\n",
       "      <td>2.00</td>\n",
       "      <td>Cigar shaped object moving from West to East</td>\n",
       "      <td>2005-04-16</td>\n",
       "      <td>32.709167</td>\n",
       "      <td>-96.008056</td>\n",
       "    </tr>\n",
       "    <tr>\n",
       "      <th>1</th>\n",
       "      <td>1920-06-11 21:00:00</td>\n",
       "      <td>1920</td>\n",
       "      <td>Cicero</td>\n",
       "      <td>IN</td>\n",
       "      <td>US</td>\n",
       "      <td>unknown</td>\n",
       "      <td>60.0</td>\n",
       "      <td>1.00</td>\n",
       "      <td>((NUFORC Note:  Probable hoax.  Note date.  PD...</td>\n",
       "      <td>2009-05-12</td>\n",
       "      <td>40.123889</td>\n",
       "      <td>-86.013333</td>\n",
       "    </tr>\n",
       "    <tr>\n",
       "      <th>2</th>\n",
       "      <td>1925-12-28 18:00:00</td>\n",
       "      <td>1925</td>\n",
       "      <td>Atkinson (6 Miles North Of)</td>\n",
       "      <td>IL</td>\n",
       "      <td>US</td>\n",
       "      <td>disk</td>\n",
       "      <td>60.0</td>\n",
       "      <td>1.00</td>\n",
       "      <td>Young boy witnesses disc in sky above Illinois...</td>\n",
       "      <td>2005-05-11</td>\n",
       "      <td>41.420833</td>\n",
       "      <td>-90.015000</td>\n",
       "    </tr>\n",
       "    <tr>\n",
       "      <th>3</th>\n",
       "      <td>1929-07-05 14:00:00</td>\n",
       "      <td>1929</td>\n",
       "      <td>Buchanan  (Or Burns)</td>\n",
       "      <td>OR</td>\n",
       "      <td>US</td>\n",
       "      <td>disk</td>\n",
       "      <td>60.0</td>\n",
       "      <td>1.00</td>\n",
       "      <td>we were traveling east of burns&amp;#44clmbing up ...</td>\n",
       "      <td>2002-08-16</td>\n",
       "      <td>43.642500</td>\n",
       "      <td>-118.627500</td>\n",
       "    </tr>\n",
       "    <tr>\n",
       "      <th>4</th>\n",
       "      <td>1930-06-01 22:00:00</td>\n",
       "      <td>1930</td>\n",
       "      <td>Ithaca/Freeville</td>\n",
       "      <td>NY</td>\n",
       "      <td>US</td>\n",
       "      <td>triangle</td>\n",
       "      <td>1200.0</td>\n",
       "      <td>20.00</td>\n",
       "      <td>Very Large Triangle Shapped Object</td>\n",
       "      <td>2005-01-19</td>\n",
       "      <td>42.509167</td>\n",
       "      <td>-76.393804</td>\n",
       "    </tr>\n",
       "    <tr>\n",
       "      <th>...</th>\n",
       "      <td>...</td>\n",
       "      <td>...</td>\n",
       "      <td>...</td>\n",
       "      <td>...</td>\n",
       "      <td>...</td>\n",
       "      <td>...</td>\n",
       "      <td>...</td>\n",
       "      <td>...</td>\n",
       "      <td>...</td>\n",
       "      <td>...</td>\n",
       "      <td>...</td>\n",
       "      <td>...</td>\n",
       "    </tr>\n",
       "    <tr>\n",
       "      <th>70252</th>\n",
       "      <td>2014-03-31 03:00:00</td>\n",
       "      <td>2014</td>\n",
       "      <td>Chattanooga</td>\n",
       "      <td>TN</td>\n",
       "      <td>US</td>\n",
       "      <td>light</td>\n",
       "      <td>900.0</td>\n",
       "      <td>15.00</td>\n",
       "      <td>Bright light in my window.</td>\n",
       "      <td>2014-04-04</td>\n",
       "      <td>35.045556</td>\n",
       "      <td>-85.309722</td>\n",
       "    </tr>\n",
       "    <tr>\n",
       "      <th>70253</th>\n",
       "      <td>2014-03-31 04:00:00</td>\n",
       "      <td>2014</td>\n",
       "      <td>Binghamton</td>\n",
       "      <td>NY</td>\n",
       "      <td>US</td>\n",
       "      <td>chevron</td>\n",
       "      <td>600.0</td>\n",
       "      <td>10.00</td>\n",
       "      <td>Fleet of metalic objects over Binghamton N.Y.</td>\n",
       "      <td>2014-04-04</td>\n",
       "      <td>42.098611</td>\n",
       "      <td>-75.918333</td>\n",
       "    </tr>\n",
       "    <tr>\n",
       "      <th>70254</th>\n",
       "      <td>2014-03-31 05:00:00</td>\n",
       "      <td>2014</td>\n",
       "      <td>Petoskey</td>\n",
       "      <td>MI</td>\n",
       "      <td>US</td>\n",
       "      <td>formation</td>\n",
       "      <td>30.0</td>\n",
       "      <td>0.50</td>\n",
       "      <td>Multiple lights flying in triangular formation...</td>\n",
       "      <td>2014-04-04</td>\n",
       "      <td>45.373333</td>\n",
       "      <td>-84.955278</td>\n",
       "    </tr>\n",
       "    <tr>\n",
       "      <th>70255</th>\n",
       "      <td>2014-03-31 11:52:00</td>\n",
       "      <td>2014</td>\n",
       "      <td>Rio Rancho</td>\n",
       "      <td>NM</td>\n",
       "      <td>US</td>\n",
       "      <td>cigar</td>\n",
       "      <td>15.0</td>\n",
       "      <td>0.25</td>\n",
       "      <td>Cigar shaped craft traveling much faster than ...</td>\n",
       "      <td>2014-04-04</td>\n",
       "      <td>35.233333</td>\n",
       "      <td>-106.663889</td>\n",
       "    </tr>\n",
       "    <tr>\n",
       "      <th>70256</th>\n",
       "      <td>2014-02-21 19:45:00</td>\n",
       "      <td>2014</td>\n",
       "      <td>Newark (I-95; Near Pa Border)</td>\n",
       "      <td>DE</td>\n",
       "      <td>US</td>\n",
       "      <td>circle</td>\n",
       "      <td>15.0</td>\n",
       "      <td>0.25</td>\n",
       "      <td>Slow moving orange and red circle&amp;#44 like a l...</td>\n",
       "      <td>2014-02-27</td>\n",
       "      <td>39.683611</td>\n",
       "      <td>-75.750000</td>\n",
       "    </tr>\n",
       "  </tbody>\n",
       "</table>\n",
       "<p>70257 rows × 12 columns</p>\n",
       "</div>"
      ],
      "text/plain": [
       "                 datetime  year                           city state country  \\\n",
       "0     1910-06-01 15:00:00  1910                    Wills Point    TX      US   \n",
       "1     1920-06-11 21:00:00  1920                         Cicero    IN      US   \n",
       "2     1925-12-28 18:00:00  1925    Atkinson (6 Miles North Of)    IL      US   \n",
       "3     1929-07-05 14:00:00  1929           Buchanan  (Or Burns)    OR      US   \n",
       "4     1930-06-01 22:00:00  1930               Ithaca/Freeville    NY      US   \n",
       "...                   ...   ...                            ...   ...     ...   \n",
       "70252 2014-03-31 03:00:00  2014                    Chattanooga    TN      US   \n",
       "70253 2014-03-31 04:00:00  2014                     Binghamton    NY      US   \n",
       "70254 2014-03-31 05:00:00  2014                       Petoskey    MI      US   \n",
       "70255 2014-03-31 11:52:00  2014                     Rio Rancho    NM      US   \n",
       "70256 2014-02-21 19:45:00  2014  Newark (I-95; Near Pa Border)    DE      US   \n",
       "\n",
       "           shape  duration_seconds  duration  \\\n",
       "0          cigar             120.0      2.00   \n",
       "1        unknown              60.0      1.00   \n",
       "2           disk              60.0      1.00   \n",
       "3           disk              60.0      1.00   \n",
       "4       triangle            1200.0     20.00   \n",
       "...          ...               ...       ...   \n",
       "70252      light             900.0     15.00   \n",
       "70253    chevron             600.0     10.00   \n",
       "70254  formation              30.0      0.50   \n",
       "70255      cigar              15.0      0.25   \n",
       "70256     circle              15.0      0.25   \n",
       "\n",
       "                                                comments date_posted  \\\n",
       "0           Cigar shaped object moving from West to East  2005-04-16   \n",
       "1      ((NUFORC Note:  Probable hoax.  Note date.  PD...  2009-05-12   \n",
       "2      Young boy witnesses disc in sky above Illinois...  2005-05-11   \n",
       "3      we were traveling east of burns&#44clmbing up ...  2002-08-16   \n",
       "4                     Very Large Triangle Shapped Object  2005-01-19   \n",
       "...                                                  ...         ...   \n",
       "70252                         Bright light in my window.  2014-04-04   \n",
       "70253      Fleet of metalic objects over Binghamton N.Y.  2014-04-04   \n",
       "70254  Multiple lights flying in triangular formation...  2014-04-04   \n",
       "70255  Cigar shaped craft traveling much faster than ...  2014-04-04   \n",
       "70256  Slow moving orange and red circle&#44 like a l...  2014-02-27   \n",
       "\n",
       "        latitude   longitude  \n",
       "0      32.709167  -96.008056  \n",
       "1      40.123889  -86.013333  \n",
       "2      41.420833  -90.015000  \n",
       "3      43.642500 -118.627500  \n",
       "4      42.509167  -76.393804  \n",
       "...          ...         ...  \n",
       "70252  35.045556  -85.309722  \n",
       "70253  42.098611  -75.918333  \n",
       "70254  45.373333  -84.955278  \n",
       "70255  35.233333 -106.663889  \n",
       "70256  39.683611  -75.750000  \n",
       "\n",
       "[70257 rows x 12 columns]"
      ]
     },
     "execution_count": 135,
     "metadata": {},
     "output_type": "execute_result"
    }
   ],
   "source": [
    "df"
   ]
  },
  {
   "cell_type": "code",
   "execution_count": 136,
   "id": "649d69ff",
   "metadata": {},
   "outputs": [],
   "source": [
    "df.to_csv('ufo_proximity_data.csv', index=False)"
   ]
  },
  {
   "cell_type": "code",
   "execution_count": null,
   "id": "2021dfa2",
   "metadata": {},
   "outputs": [],
   "source": []
  },
  {
   "cell_type": "code",
   "execution_count": null,
   "id": "49bb44ec",
   "metadata": {},
   "outputs": [],
   "source": []
  },
  {
   "cell_type": "markdown",
   "id": "a57d327e",
   "metadata": {},
   "source": [
    "### Visualizing Clusters"
   ]
  },
  {
   "cell_type": "code",
   "execution_count": null,
   "id": "f604ef02",
   "metadata": {},
   "outputs": [
    {
     "data": {
      "text/html": [
       "<div>\n",
       "<style scoped>\n",
       "    .dataframe tbody tr th:only-of-type {\n",
       "        vertical-align: middle;\n",
       "    }\n",
       "\n",
       "    .dataframe tbody tr th {\n",
       "        vertical-align: top;\n",
       "    }\n",
       "\n",
       "    .dataframe thead th {\n",
       "        text-align: right;\n",
       "    }\n",
       "</style>\n",
       "<table border=\"1\" class=\"dataframe\">\n",
       "  <thead>\n",
       "    <tr style=\"text-align: right;\">\n",
       "      <th></th>\n",
       "      <th>cluster_num</th>\n",
       "      <th>ufo_datetime</th>\n",
       "      <th>ufo_year</th>\n",
       "      <th>city</th>\n",
       "      <th>county_name</th>\n",
       "      <th>county_lat</th>\n",
       "      <th>county_lon</th>\n",
       "      <th>state</th>\n",
       "      <th>shape</th>\n",
       "      <th>duration_seconds</th>\n",
       "      <th>comments</th>\n",
       "    </tr>\n",
       "  </thead>\n",
       "  <tbody>\n",
       "    <tr>\n",
       "      <th>0</th>\n",
       "      <td>NaN</td>\n",
       "      <td>2011-06-15 19:00:00.000000 UTC</td>\n",
       "      <td>2011</td>\n",
       "      <td>Great Falls</td>\n",
       "      <td>Cascade</td>\n",
       "      <td>47.316575</td>\n",
       "      <td>-111.350262</td>\n",
       "      <td>MT</td>\n",
       "      <td>chevron</td>\n",
       "      <td>10.0</td>\n",
       "      <td>Boomerang shaped object seen in daylight at Gr...</td>\n",
       "    </tr>\n",
       "    <tr>\n",
       "      <th>1</th>\n",
       "      <td>NaN</td>\n",
       "      <td>2011-05-06 23:20:00.000000 UTC</td>\n",
       "      <td>2011</td>\n",
       "      <td>Colchester</td>\n",
       "      <td>Chittenden</td>\n",
       "      <td>44.463329</td>\n",
       "      <td>-73.069410</td>\n",
       "      <td>VT</td>\n",
       "      <td>chevron</td>\n",
       "      <td>180.0</td>\n",
       "      <td>Orange light arch in Vermont.</td>\n",
       "    </tr>\n",
       "    <tr>\n",
       "      <th>2</th>\n",
       "      <td>NaN</td>\n",
       "      <td>2011-10-11 03:15:00.000000 UTC</td>\n",
       "      <td>2011</td>\n",
       "      <td>Omaha</td>\n",
       "      <td>Gallatin</td>\n",
       "      <td>37.768677</td>\n",
       "      <td>-88.227964</td>\n",
       "      <td>IL</td>\n",
       "      <td>chevron</td>\n",
       "      <td>120.0</td>\n",
       "      <td>I noticed the craft as it had just passed over...</td>\n",
       "    </tr>\n",
       "    <tr>\n",
       "      <th>3</th>\n",
       "      <td>NaN</td>\n",
       "      <td>2011-03-02 21:00:00.000000 UTC</td>\n",
       "      <td>2011</td>\n",
       "      <td>Echo</td>\n",
       "      <td>Coleman</td>\n",
       "      <td>31.914205</td>\n",
       "      <td>-99.346622</td>\n",
       "      <td>TX</td>\n",
       "      <td>chevron</td>\n",
       "      <td>60.0</td>\n",
       "      <td>Man Escapes Alien Abduction With Photo&amp;#44s to...</td>\n",
       "    </tr>\n",
       "    <tr>\n",
       "      <th>4</th>\n",
       "      <td>NaN</td>\n",
       "      <td>2011-05-05 23:05:00.000000 UTC</td>\n",
       "      <td>2011</td>\n",
       "      <td>Sioux Falls</td>\n",
       "      <td>Minnehaha</td>\n",
       "      <td>43.667472</td>\n",
       "      <td>-96.795726</td>\n",
       "      <td>SD</td>\n",
       "      <td>chevron</td>\n",
       "      <td>120.0</td>\n",
       "      <td>Three brillant white lights going one directio...</td>\n",
       "    </tr>\n",
       "    <tr>\n",
       "      <th>...</th>\n",
       "      <td>...</td>\n",
       "      <td>...</td>\n",
       "      <td>...</td>\n",
       "      <td>...</td>\n",
       "      <td>...</td>\n",
       "      <td>...</td>\n",
       "      <td>...</td>\n",
       "      <td>...</td>\n",
       "      <td>...</td>\n",
       "      <td>...</td>\n",
       "      <td>...</td>\n",
       "    </tr>\n",
       "    <tr>\n",
       "      <th>862</th>\n",
       "      <td>28.0</td>\n",
       "      <td>2002-01-03 21:35:00.000000 UTC</td>\n",
       "      <td>2002</td>\n",
       "      <td>Richmond/Bowdoin</td>\n",
       "      <td>Sagadahoc</td>\n",
       "      <td>43.916845</td>\n",
       "      <td>-69.844227</td>\n",
       "      <td>ME</td>\n",
       "      <td>chevron</td>\n",
       "      <td>1200.0</td>\n",
       "      <td>CHEVRON SHAPED OBJECT WITH BLIDING LIGHT AND N...</td>\n",
       "    </tr>\n",
       "    <tr>\n",
       "      <th>863</th>\n",
       "      <td>28.0</td>\n",
       "      <td>1996-08-01 21:00:00.000000 UTC</td>\n",
       "      <td>1996</td>\n",
       "      <td>Ellsworth</td>\n",
       "      <td>Hancock</td>\n",
       "      <td>44.564906</td>\n",
       "      <td>-68.370703</td>\n",
       "      <td>ME</td>\n",
       "      <td>chevron</td>\n",
       "      <td>10.0</td>\n",
       "      <td>Silent craft crosses highway&amp;#44 then follows ...</td>\n",
       "    </tr>\n",
       "    <tr>\n",
       "      <th>864</th>\n",
       "      <td>29.0</td>\n",
       "      <td>2013-03-09 20:30:00.000000 UTC</td>\n",
       "      <td>2013</td>\n",
       "      <td>Fayetteville</td>\n",
       "      <td>Fayette</td>\n",
       "      <td>38.030933</td>\n",
       "      <td>-81.086051</td>\n",
       "      <td>WV</td>\n",
       "      <td>chevron</td>\n",
       "      <td>2.0</td>\n",
       "      <td>Band of lights traveled north to south&amp;#44 sil...</td>\n",
       "    </tr>\n",
       "    <tr>\n",
       "      <th>865</th>\n",
       "      <td>29.0</td>\n",
       "      <td>2012-05-15 21:00:00.000000 UTC</td>\n",
       "      <td>2012</td>\n",
       "      <td>Oak Hill</td>\n",
       "      <td>Fayette</td>\n",
       "      <td>38.030933</td>\n",
       "      <td>-81.086051</td>\n",
       "      <td>WV</td>\n",
       "      <td>chevron</td>\n",
       "      <td>20.0</td>\n",
       "      <td>a large boomerang shaped craft with glowing pu...</td>\n",
       "    </tr>\n",
       "    <tr>\n",
       "      <th>866</th>\n",
       "      <td>29.0</td>\n",
       "      <td>2007-12-14 20:30:00.000000 UTC</td>\n",
       "      <td>2007</td>\n",
       "      <td>Clifton Forge</td>\n",
       "      <td>Alleghany</td>\n",
       "      <td>37.787905</td>\n",
       "      <td>-80.008669</td>\n",
       "      <td>VA</td>\n",
       "      <td>chevron</td>\n",
       "      <td>300.0</td>\n",
       "      <td>2 chevron-shaped crafts over Clifton  Forge</td>\n",
       "    </tr>\n",
       "  </tbody>\n",
       "</table>\n",
       "<p>867 rows × 11 columns</p>\n",
       "</div>"
      ],
      "text/plain": [
       "     cluster_num                    ufo_datetime  ufo_year              city  \\\n",
       "0            NaN  2011-06-15 19:00:00.000000 UTC      2011       Great Falls   \n",
       "1            NaN  2011-05-06 23:20:00.000000 UTC      2011        Colchester   \n",
       "2            NaN  2011-10-11 03:15:00.000000 UTC      2011             Omaha   \n",
       "3            NaN  2011-03-02 21:00:00.000000 UTC      2011              Echo   \n",
       "4            NaN  2011-05-05 23:05:00.000000 UTC      2011       Sioux Falls   \n",
       "..           ...                             ...       ...               ...   \n",
       "862         28.0  2002-01-03 21:35:00.000000 UTC      2002  Richmond/Bowdoin   \n",
       "863         28.0  1996-08-01 21:00:00.000000 UTC      1996         Ellsworth   \n",
       "864         29.0  2013-03-09 20:30:00.000000 UTC      2013      Fayetteville   \n",
       "865         29.0  2012-05-15 21:00:00.000000 UTC      2012          Oak Hill   \n",
       "866         29.0  2007-12-14 20:30:00.000000 UTC      2007     Clifton Forge   \n",
       "\n",
       "    county_name  county_lat  county_lon state    shape  duration_seconds  \\\n",
       "0       Cascade   47.316575 -111.350262    MT  chevron              10.0   \n",
       "1    Chittenden   44.463329  -73.069410    VT  chevron             180.0   \n",
       "2      Gallatin   37.768677  -88.227964    IL  chevron             120.0   \n",
       "3       Coleman   31.914205  -99.346622    TX  chevron              60.0   \n",
       "4     Minnehaha   43.667472  -96.795726    SD  chevron             120.0   \n",
       "..          ...         ...         ...   ...      ...               ...   \n",
       "862   Sagadahoc   43.916845  -69.844227    ME  chevron            1200.0   \n",
       "863     Hancock   44.564906  -68.370703    ME  chevron              10.0   \n",
       "864     Fayette   38.030933  -81.086051    WV  chevron               2.0   \n",
       "865     Fayette   38.030933  -81.086051    WV  chevron              20.0   \n",
       "866   Alleghany   37.787905  -80.008669    VA  chevron             300.0   \n",
       "\n",
       "                                              comments  \n",
       "0    Boomerang shaped object seen in daylight at Gr...  \n",
       "1                        Orange light arch in Vermont.  \n",
       "2    I noticed the craft as it had just passed over...  \n",
       "3    Man Escapes Alien Abduction With Photo&#44s to...  \n",
       "4    Three brillant white lights going one directio...  \n",
       "..                                                 ...  \n",
       "862  CHEVRON SHAPED OBJECT WITH BLIDING LIGHT AND N...  \n",
       "863  Silent craft crosses highway&#44 then follows ...  \n",
       "864  Band of lights traveled north to south&#44 sil...  \n",
       "865  a large boomerang shaped craft with glowing pu...  \n",
       "866        2 chevron-shaped crafts over Clifton  Forge  \n",
       "\n",
       "[867 rows x 11 columns]"
      ]
     },
     "execution_count": 283,
     "metadata": {},
     "output_type": "execute_result"
    }
   ],
   "source": [
    "df = pd.read_csv('ufo_clusters.csv', low_memory=False)\n",
    "df"
   ]
  },
  {
   "cell_type": "code",
   "execution_count": 284,
   "id": "e2ca5e9a",
   "metadata": {},
   "outputs": [],
   "source": [
    "df['county_state'] = df['county_name'] + ' County, ' + df['state']"
   ]
  },
  {
   "cell_type": "code",
   "execution_count": 285,
   "id": "5c5095bb",
   "metadata": {},
   "outputs": [],
   "source": [
    "df['cluster_num'] = df['cluster_num'].astype('Int64').astype(str)\n",
    "\n",
    "df['cluster_num'] = np.where(df['cluster_num'] == '<NA>', 'Noise', df['cluster_num'])"
   ]
  },
  {
   "cell_type": "code",
   "execution_count": 286,
   "id": "b8e8be79",
   "metadata": {},
   "outputs": [],
   "source": [
    "# Group by county_name to get the count and the mean lat/long (centroid proxy)\n",
    "df_agg = df.groupby(['county_state']).agg(\n",
    "                                        county_lat=('county_lat', 'mean'),\n",
    "                                        county_lon=('county_lon', 'mean'),\n",
    "                                        num_sightings=('county_name', 'size'),\n",
    "                                        Cluster=('cluster_num', lambda x: x.mode()[0])\n",
    "                                    ).reset_index()"
   ]
  },
  {
   "cell_type": "code",
   "execution_count": 289,
   "id": "fe8ff248",
   "metadata": {},
   "outputs": [
    {
     "name": "stderr",
     "output_type": "stream",
     "text": [
      "/Users/sam/opt/anaconda3/lib/python3.9/site-packages/plotly/express/_core.py:1985: FutureWarning:\n",
      "\n",
      "When grouping with a length-1 list-like, you will need to pass a length-1 tuple to get_group in a future version of pandas. Pass `(name,)` instead of `name` to silence this warning.\n",
      "\n"
     ]
    },
    {
     "data": {
      "application/vnd.plotly.v1+json": {
       "config": {
        "plotlyServerURL": "https://plot.ly"
       },
       "data": [
        {
         "geo": "geo",
         "hovertemplate": "<b>%{hovertext}</b><br><br>Cluster=19<br>num_sightings=%{marker.size}<br>county_lat=%{lat}<br>county_lon=%{lon}<extra></extra>",
         "hovertext": [
          "Ada County, ID",
          "Baker County, OR",
          "Bingham County, ID",
          "Bonneville County, ID",
          "Canyon County, ID",
          "Custer County, ID",
          "Elmore County, ID",
          "Park County, WY",
          "Teton County, WY",
          "Union County, OR"
         ],
         "lat": [
          43.4514767,
          44.7034268,
          43.2163568,
          43.3951708,
          43.6257956,
          44.273351,
          43.3946984,
          44.4923865,
          44.048662,
          45.3040809
         ],
         "legendgroup": "19",
         "lon": [
          -116.244376,
          -117.6919334,
          -112.3992058,
          -111.6218783,
          -116.709058,
          -114.2522675,
          -115.471205,
          -109.5935975,
          -110.426087,
          -117.9991488
         ],
         "marker": {
          "color": "rgb(102, 197, 204)",
          "size": [
           2,
           1,
           1,
           2,
           1,
           1,
           1,
           1,
           1,
           1
          ],
          "sizemode": "area",
          "sizeref": 0.043333333333333335,
          "symbol": "circle"
         },
         "mode": "markers",
         "name": "19",
         "showlegend": true,
         "type": "scattergeo"
        },
        {
         "geo": "geo",
         "hovertemplate": "<b>%{hovertext}</b><br><br>Cluster=21<br>num_sightings=%{marker.size}<br>county_lat=%{lat}<br>county_lon=%{lon}<extra></extra>",
         "hovertext": [
          "Adams County, CO",
          "Arapahoe County, CO",
          "Boulder County, CO",
          "Denver County, CO",
          "Douglas County, CO",
          "Eagle County, CO",
          "El Paso County, CO",
          "Fremont County, CO",
          "Jefferson County, CO",
          "Larimer County, CO",
          "Mesa County, CO",
          "Natrona County, WY",
          "Pitkin County, CO",
          "Sweetwater County, WY",
          "Uintah County, UT",
          "Weld County, CO"
         ],
         "lat": [
          39.8743252,
          39.6445537,
          40.0949699,
          39.7618502,
          39.325414,
          39.6269919,
          38.8273831,
          38.4551696,
          39.5795106,
          40.6580933,
          39.019524,
          42.9776447,
          39.2175376,
          41.6603282,
          40.1258872,
          40.555961
         ],
         "legendgroup": "21",
         "lon": [
          -104.3318718,
          -104.3317065,
          -105.3976911,
          -104.8811054,
          -104.9259871,
          -106.6951694,
          -104.5274718,
          -105.4249583,
          -105.24546200000002,
          -105.4867638,
          -108.4605707,
          -106.7682192,
          -106.9161587,
          -108.8756774,
          -109.5177482,
          -104.383666
         ],
         "marker": {
          "color": "rgb(246, 207, 113)",
          "size": [
           1,
           4,
           4,
           5,
           1,
           1,
           6,
           1,
           3,
           3,
           1,
           1,
           1,
           1,
           1,
           1
          ],
          "sizemode": "area",
          "sizeref": 0.043333333333333335,
          "symbol": "circle"
         },
         "mode": "markers",
         "name": "21",
         "showlegend": true,
         "type": "scattergeo"
        },
        {
         "geo": "geo",
         "hovertemplate": "<b>%{hovertext}</b><br><br>Cluster=16<br>num_sightings=%{marker.size}<br>county_lat=%{lat}<br>county_lon=%{lon}<extra></extra>",
         "hovertext": [
          "Aitkin County, MN",
          "Anoka County, MN",
          "Carver County, MN",
          "Cass County, MN",
          "Crow Wing County, MN",
          "Dakota County, MN",
          "Hennepin County, MN",
          "Olmsted County, MN",
          "Ramsey County, MN",
          "Rice County, MN",
          "St. Louis County, MN",
          "Stearns County, MN",
          "Washington County, MN",
          "Wright County, MN"
         ],
         "lat": [
          46.6024464,
          45.2741098,
          44.8213196,
          46.9517447,
          46.4916528,
          44.670893,
          45.0061209,
          43.9994987,
          45.0152037,
          44.3507339,
          47.578635,
          45.5552345,
          45.037929,
          45.1750914
         ],
         "legendgroup": "16",
         "lon": [
          -93.41976,
          -93.2427232,
          -93.8000913,
          -94.3337048,
          -94.0707182,
          -93.0624813,
          -93.4752279,
          -92.4100985,
          -93.0999648,
          -93.2985052,
          -92.51457,
          -94.6104822,
          -92.890117,
          -93.9663965
         ],
         "marker": {
          "color": "rgb(248, 156, 116)",
          "size": [
           1,
           1,
           1,
           1,
           1,
           4,
           1,
           1,
           1,
           1,
           1,
           2,
           2,
           1
          ],
          "sizemode": "area",
          "sizeref": 0.043333333333333335,
          "symbol": "circle"
         },
         "mode": "markers",
         "name": "16",
         "showlegend": true,
         "type": "scattergeo"
        },
        {
         "geo": "geo",
         "hovertemplate": "<b>%{hovertext}</b><br><br>Cluster=5<br>num_sightings=%{marker.size}<br>county_lat=%{lat}<br>county_lon=%{lon}<extra></extra>",
         "hovertext": [
          "Alameda County, CA",
          "Butte County, CA",
          "Cache County, UT",
          "Calaveras County, CA",
          "Clark County, NV",
          "Cochise County, AZ",
          "Coconino County, AZ",
          "Colusa County, CA",
          "Contra Costa County, CA",
          "Davis County, UT",
          "El Dorado County, CA",
          "Eureka County, NV",
          "Fresno County, CA",
          "Imperial County, CA",
          "Kern County, CA",
          "Los Angeles County, CA",
          "Lyon County, NV",
          "Maricopa County, AZ",
          "Marin County, CA",
          "Mariposa County, CA",
          "Mohave County, AZ",
          "Monterey County, CA",
          "Napa County, CA",
          "Nevada County, CA",
          "Nye County, NV",
          "Orange County, CA",
          "Pima County, AZ",
          "Placer County, CA",
          "Riverside County, CA",
          "Sacramento County, CA",
          "Salt Lake County, UT",
          "San Bernardino County, CA",
          "San Diego County, CA",
          "San Francisco County, CA",
          "San Joaquin County, CA",
          "San Mateo County, CA",
          "Santa Barbara County, CA",
          "Santa Clara County, CA",
          "Santa Cruz County, AZ",
          "Santa Cruz County, CA",
          "Solano County, CA",
          "Sonoma County, CA",
          "Stanislaus County, CA",
          "Sutter County, CA",
          "Tehama County, CA",
          "Tooele County, UT",
          "Utah County, UT",
          "Ventura County, CA",
          "Washoe County, NV",
          "White Pine County, NV",
          "Yavapai County, AZ",
          "Yuma County, AZ"
         ],
         "lat": [
          37.6471385,
          39.6659588,
          41.7341174,
          38.1838996,
          36.2142575,
          31.8401287,
          35.8296919,
          39.1777385,
          37.919479,
          41.0375594,
          38.7856116,
          39.9777878,
          36.7610058,
          33.0408143,
          35.3466288,
          34.1963983,
          39.0222125,
          33.3451756,
          38.0518169,
          37.5700295,
          35.717705,
          36.240107,
          38.5070999,
          39.2975082,
          37.9658636,
          33.6756872,
          32.1280427,
          39.0620323,
          33.7298275,
          38.4500161,
          40.6678828,
          34.8572198,
          33.0236041,
          37.7272391,
          37.9349815,
          37.4146725,
          34.5370572,
          37.2206954,
          31.525733,
          37.0124883,
          38.2672255,
          38.5251824,
          37.5623162,
          39.0361898,
          40.1261573,
          40.4677525,
          40.1204248,
          34.3587415,
          40.7313196,
          39.4182344,
          34.631071,
          32.7739424
         ],
         "legendgroup": "5",
         "lon": [
          -121.912488,
          -121.6019188,
          -111.7453987,
          -120.5614415,
          -115.01381199999999,
          -109.7751627,
          -111.7737277,
          -122.2375629,
          -121.9515431,
          -112.2019434,
          -120.5342245,
          -116.2722082,
          -119.6550193,
          -115.3554001,
          -118.72950640000002,
          -118.2618616,
          -119.1974246,
          -112.4989297,
          -122.7459738,
          -119.9128613,
          -113.7496891,
          -121.3155723,
          -122.3259045,
          -120.7713429,
          -116.4590107,
          -117.7772068,
          -111.7836574,
          -120.7227181,
          -116.0022389,
          -121.34044079999998,
          -111.9242397,
          -116.1811967,
          -116.7761174,
          -123.0322294,
          -121.272244,
          -122.3715457,
          -120.0399729,
          -121.6905097,
          -110.8452278,
          -122.007205,
          -121.939594,
          -122.9261095,
          -121.0028311,
          -121.7039397,
          -122.2322737,
          -113.1239786,
          -111.6685082,
          -119.13314320000002,
          -119.6632695,
          -114.900605,
          -112.5772247,
          -113.910905
         ],
         "marker": {
          "color": "rgb(220, 176, 242)",
          "size": [
           6,
           1,
           1,
           1,
           9,
           1,
           3,
           1,
           4,
           1,
           1,
           1,
           3,
           1,
           5,
           39,
           2,
           17,
           2,
           1,
           2,
           3,
           3,
           2,
           1,
           7,
           6,
           2,
           7,
           5,
           4,
           4,
           14,
           3,
           3,
           1,
           5,
           7,
           1,
           3,
           2,
           6,
           6,
           1,
           1,
           1,
           2,
           7,
           1,
           1,
           1,
           1
          ],
          "sizemode": "area",
          "sizeref": 0.043333333333333335,
          "symbol": "circle"
         },
         "mode": "markers",
         "name": "5",
         "showlegend": true,
         "type": "scattergeo"
        },
        {
         "geo": "geo",
         "hovertemplate": "<b>%{hovertext}</b><br><br>Cluster=1<br>num_sightings=%{marker.size}<br>county_lat=%{lat}<br>county_lon=%{lon}<extra></extra>",
         "hovertext": [
          "Albany County, NY",
          "Alexandria County, VA",
          "Allegany County, MD",
          "Allegheny County, PA",
          "Anderson County, SC",
          "Anderson County, TN",
          "Anne Arundel County, MD",
          "Baltimore County, MD",
          "Barnstable County, MA",
          "Bergen County, NJ",
          "Berkshire County, MA",
          "Blair County, PA",
          "Blount County, TN",
          "Broome County, NY",
          "Bucks County, PA",
          "Buncombe County, NC",
          "Camden County, NJ",
          "Carteret County, NC",
          "Catawba County, NC",
          "Charleston County, SC",
          "Chemung County, NY",
          "Chesterfield County, VA",
          "Clinton County, OH",
          "Cortland County, NY",
          "Cumberland County, PA",
          "Cuyahoga County, OH",
          "Dare County, NC",
          "District of Columbia County, DC",
          "Duplin County, NC",
          "Durham County, NC",
          "Dutchess County, NY",
          "Erie County, NY",
          "Erie County, OH",
          "Essex County, MA",
          "Essex County, NJ",
          "Fairfax County, VA",
          "Fairfield County, CT",
          "Fairfield County, OH",
          "Fauquier County, VA",
          "Fayette County, KY",
          "Franklin County, KY",
          "Franklin County, OH",
          "Genesee County, NY",
          "Grainger County, TN",
          "Greene County, PA",
          "Guilford County, NC",
          "Hamilton County, OH",
          "Hampden County, MA",
          "Hampton County, VA",
          "Harford County, MD",
          "Harrison County, IN",
          "Hartford County, CT",
          "Hawkins County, TN",
          "Horry County, SC",
          "Jefferson County, WV",
          "Kenton County, KY",
          "Kings County, NY",
          "Knox County, TN",
          "Lackawanna County, PA",
          "Lake County, OH",
          "Lancaster County, PA",
          "Lehigh County, PA",
          "Letcher County, KY",
          "Litchfield County, CT",
          "Loudoun County, VA",
          "Luzerne County, PA",
          "Lycoming County, PA",
          "Macomb County, MI",
          "Mahoning County, OH",
          "Martin County, KY",
          "Mason County, KY",
          "Mecklenburg County, NC",
          "Meigs County, OH",
          "Mercer County, NJ",
          "Mercer County, PA",
          "Merrimack County, NH",
          "Middlesex County, MA",
          "Middlesex County, NJ",
          "Monmouth County, NJ",
          "Monongalia County, WV",
          "Monroe County, NY",
          "Montgomery County, MD",
          "Montgomery County, NY",
          "Montgomery County, OH",
          "Montgomery County, PA",
          "Nassau County, NY",
          "Nelson County, KY",
          "New Castle County, DE",
          "New Hanover County, NC",
          "New Haven County, CT",
          "New London County, CT",
          "New York County, NY",
          "Newport County, RI",
          "Niagara County, NY",
          "Norfolk County, VA",
          "Oakland County, MI",
          "Ocean County, NJ",
          "Onondaga County, NY",
          "Onslow County, NC",
          "Orange County, NY",
          "Pasquotank County, NC",
          "Passaic County, NJ",
          "Philadelphia County, PA",
          "Pickens County, SC",
          "Pike County, OH",
          "Pitt County, NC",
          "Plymouth County, MA",
          "Prince William County, VA",
          "Providence County, RI",
          "Putnam County, NY",
          "Queens County, NY",
          "Rensselaer County, VT",
          "Richland County, OH",
          "Richmond County, VA",
          "Rockingham County, NH",
          "Saginaw County, MI",
          "Schenectady County, NY",
          "Somerset County, NJ",
          "Stanly County, NC",
          "Stark County, OH",
          "Suffolk County, NY",
          "Summit County, OH",
          "Tioga County, NY",
          "Tompkins County, NY",
          "Union County, NJ",
          "Virginia Beach County, VA",
          "Wake County, NC",
          "Warren County, NC",
          "Washington County, RI",
          "Watauga County, NC",
          "Wayne County, KY",
          "Wayne County, MI",
          "Wayne County, WV",
          "Westchester County, NY",
          "Wilkes County, NC",
          "Williamsburg County, VA",
          "Windham County, CT",
          "Wood County, OH",
          "Worcester County, MA",
          "Wyoming County, PA",
          "Yates County, NY",
          "York County, SC"
         ],
         "lat": [
          42.5882401,
          38.8192511,
          39.6123134,
          40.4697574,
          34.521235,
          36.1167307,
          38.9916174,
          39.33581595,
          41.7990145,
          40.9596985,
          42.371493,
          40.4986536,
          35.6881849,
          42.1619773,
          40.3368872,
          35.6093706,
          39.8024071,
          34.8583428,
          35.6618826,
          32.8004582,
          42.1552804,
          37.3784338,
          39.4302248,
          42.594039,
          40.1648047,
          41.7603919,
          35.6062688,
          38.9042474,
          34.9344033,
          36.0338282,
          41.7547699,
          42.752759,
          41.5540061,
          42.6427082,
          40.7874003,
          38.8295203,
          41.2274128,
          39.747694,
          38.7440956,
          38.0406751,
          38.234919,
          39.9698749,
          43.0009096,
          36.2775091,
          39.8477067,
          36.079065,
          39.1969272,
          42.1361975,
          37.0479606,
          39.5374292,
          38.1864535,
          41.8060534,
          36.4520892,
          33.9092694,
          39.3073985,
          38.9305031,
          40.6350451,
          35.9927265,
          41.4402841,
          41.9241163,
          40.0419921,
          40.6142409,
          37.1185357,
          41.7918833,
          39.0812,
          41.1727868,
          41.3438824,
          42.6715526,
          41.0108798,
          37.796774,
          38.5941366,
          35.2468623,
          39.0898068,
          40.2825026,
          41.3000142,
          43.2995786,
          42.4817182,
          40.4396214,
          40.2870481,
          39.6336448,
          43.4644839,
          39.1373815,
          42.9008912,
          39.7537357,
          40.2099992,
          40.7296118,
          37.8031198,
          39.5759152,
          34.183442,
          41.3497185,
          41.4726517,
          40.7766419,
          41.5025036,
          43.4567309,
          36.9230149,
          42.6604518,
          39.865669,
          43.0065163,
          34.7631087,
          41.4024096,
          36.265199,
          41.0378896,
          40.0093755,
          34.8853677,
          39.0713413,
          35.5924897,
          41.9871959,
          38.7011187,
          41.8697678,
          41.4279067,
          40.6585662,
          42.7104206,
          40.774159,
          37.531399,
          42.9886636,
          43.3282667,
          42.8175516,
          40.5655273,
          35.3104492,
          40.8141314,
          40.943554,
          41.1218471,
          42.1780565,
          42.4530063,
          40.6598707,
          36.7799845,
          35.7898464,
          36.3981051,
          41.396792,
          36.2353679,
          36.8007715,
          42.2846636,
          38.1436416,
          41.1526862,
          36.2088833,
          37.269481,
          41.8249987,
          41.3601834,
          42.3116934,
          41.5251726,
          42.638237,
          34.9701875
         ],
         "legendgroup": "1",
         "lon": [
          -73.9740095,
          -77.0836695,
          -78.7031037,
          -79.9804515,
          -82.6386029,
          -84.1954177,
          -76.5608941,
          -76.6119994,
          -70.2118803,
          -74.0747272,
          -73.2179276,
          -78.3095974,
          -83.9229731,
          -75.8302833,
          -75.10706,
          -82.5304234,
          -74.9612493,
          -76.5358602,
          -81.2149057,
          -79.94248,
          -76.7471791,
          -77.5858474,
          -83.7956823,
          -76.0762398,
          -77.2634419,
          -81.7242168,
          -75.7675364,
          -77.0165167,
          -77.9335434,
          -78.8781246,
          -73.7400411,
          -78.7781922,
          -82.5258973,
          -70.8649085,
          -74.2462919,
          -77.2732524,
          -73.3670614,
          -82.626685,
          -77.8215005,
          -84.4582743,
          -84.8687863,
          -83.0090858,
          -78.1927784,
          -83.5095458,
          -80.2256552,
          -79.7886652,
          -84.5441868,
          -72.6356476,
          -76.2972931,
          -76.2997894,
          -86.1037661,
          -72.7329157,
          -82.931485,
          -78.9766749,
          -77.86322,
          -84.5334381,
          -73.9506398,
          -83.9377209,
          -75.6096661,
          -81.3926429,
          -76.250198,
          -75.5906269,
          -82.8612507,
          -73.2354042,
          -77.6388976,
          -75.9760345,
          -77.0552624,
          -82.9114562,
          -80.7703956,
          -82.5066231,
          -83.8281251,
          -80.8338317,
          -82.0283968,
          -74.703724,
          -80.2527863,
          -71.6800412,
          -71.3949161,
          -74.4074303,
          -74.1524456,
          -80.0590736,
          -77.6646584,
          -77.2030633,
          -74.4353575,
          -84.2905915,
          -75.3702011,
          -73.5894144,
          -85.4659312,
          -75.6441324,
          -77.8642088,
          -72.9002033,
          -72.1086339,
          -73.9701871,
          -71.2836888,
          -78.7921425,
          -76.2446413,
          -83.3842103,
          -74.2588636,
          -76.1961336,
          -77.4994691,
          -74.3062522,
          -76.2606906,
          -74.29828,
          -75.1333459,
          -82.7233774,
          -83.0529107,
          -77.3727387,
          -70.7419417,
          -77.4795791,
          -71.5786246,
          -73.7438608,
          -73.8380168,
          -73.5138454,
          -82.5427812,
          -77.4760085,
          -71.0990801,
          -84.05541,
          -74.0435592,
          -74.6199378,
          -80.2543742,
          -81.3656673,
          -72.6922183,
          -81.5349279,
          -76.2974556,
          -76.4734835,
          -74.3086957,
          -76.0252078,
          -78.650624,
          -78.0998993,
          -71.6202819,
          -81.7098875,
          -84.8265896,
          -83.2619533,
          -82.4226659,
          -73.7457526,
          -81.1660949,
          -76.7081925,
          -71.9907017,
          -83.6226821,
          -71.940282,
          -76.008731,
          -77.1043238,
          -81.1831873
         ],
         "marker": {
          "color": "rgb(135, 197, 95)",
          "size": [
           1,
           1,
           1,
           2,
           1,
           1,
           2,
           4,
           1,
           2,
           1,
           1,
           1,
           2,
           1,
           1,
           1,
           1,
           1,
           3,
           1,
           1,
           1,
           1,
           1,
           2,
           2,
           1,
           1,
           1,
           7,
           1,
           1,
           5,
           1,
           3,
           2,
           1,
           1,
           1,
           1,
           2,
           1,
           1,
           1,
           2,
           1,
           1,
           1,
           1,
           1,
           6,
           1,
           3,
           1,
           1,
           1,
           1,
           1,
           1,
           1,
           1,
           1,
           2,
           1,
           1,
           1,
           1,
           1,
           1,
           1,
           4,
           1,
           1,
           1,
           2,
           6,
           2,
           2,
           1,
           2,
           1,
           1,
           1,
           1,
           1,
           1,
           2,
           3,
           1,
           1,
           8,
           1,
           1,
           2,
           1,
           1,
           1,
           3,
           2,
           1,
           3,
           3,
           1,
           2,
           2,
           1,
           1,
           2,
           1,
           1,
           1,
           1,
           1,
           1,
           2,
           1,
           1,
           1,
           1,
           6,
           1,
           1,
           1,
           2,
           5,
           2,
           1,
           6,
           1,
           1,
           2,
           1,
           3,
           1,
           1,
           1,
           1,
           1,
           1,
           1,
           1
          ],
          "sizemode": "area",
          "sizeref": 0.043333333333333335,
          "symbol": "circle"
         },
         "mode": "markers",
         "name": "1",
         "showlegend": true,
         "type": "scattergeo"
        },
        {
         "geo": "geo",
         "hovertemplate": "<b>%{hovertext}</b><br><br>Cluster=29<br>num_sightings=%{marker.size}<br>county_lat=%{lat}<br>county_lon=%{lon}<extra></extra>",
         "hovertext": [
          "Alleghany County, VA",
          "Fayette County, WV"
         ],
         "lat": [
          37.7879048,
          38.0309328
         ],
         "legendgroup": "29",
         "lon": [
          -80.008669,
          -81.0860508
         ],
         "marker": {
          "color": "rgb(158, 185, 243)",
          "size": [
           1,
           2
          ],
          "sizemode": "area",
          "sizeref": 0.043333333333333335,
          "symbol": "circle"
         },
         "mode": "markers",
         "name": "29",
         "showlegend": true,
         "type": "scattergeo"
        },
        {
         "geo": "geo",
         "hovertemplate": "<b>%{hovertext}</b><br><br>Cluster=0<br>num_sightings=%{marker.size}<br>county_lat=%{lat}<br>county_lon=%{lon}<extra></extra>",
         "hovertext": [
          "Angelina County, TX",
          "Bexar County, TX",
          "Brazos County, TX",
          "Calcasieu County, LA",
          "Fort Bend County, TX",
          "Galveston County, TX",
          "Harris County, TX",
          "Hays County, TX",
          "Houston County, TX",
          "Jefferson County, TX",
          "Montgomery County, TX",
          "Nacogdoches County, TX",
          "Smith County, TX",
          "St. Landry County, LA",
          "Travis County, TX",
          "Washington County, TX",
          "Williamson County, TX"
         ],
         "lat": [
          31.2518963,
          29.448670799999995,
          30.6567132,
          30.2295588,
          29.5266017,
          29.233453,
          29.857273,
          30.0612247,
          31.3230362,
          29.8539997,
          30.2988009,
          31.6205598,
          32.3770156,
          30.5834409,
          30.2395128,
          30.2150752,
          30.6490817
         ],
         "legendgroup": "0",
         "lon": [
          -94.6111337,
          -98.5201465,
          -96.3023935,
          -93.3580154,
          -95.7710149,
          -94.8884558,
          -95.3930371,
          -98.0292673,
          -95.4215995,
          -94.1493306,
          -95.50295,
          -94.6202497,
          -95.2700409,
          -91.9892745,
          -97.6912697,
          -96.4102717,
          -97.6050646
         ],
         "marker": {
          "color": "rgb(254, 136, 177)",
          "size": [
           1,
           5,
           2,
           1,
           1,
           2,
           7,
           2,
           1,
           1,
           2,
           1,
           1,
           2,
           5,
           1,
           2
          ],
          "sizemode": "area",
          "sizeref": 0.043333333333333335,
          "symbol": "circle"
         },
         "mode": "markers",
         "name": "0",
         "showlegend": true,
         "type": "scattergeo"
        },
        {
         "geo": "geo",
         "hovertemplate": "<b>%{hovertext}</b><br><br>Cluster=13<br>num_sightings=%{marker.size}<br>county_lat=%{lat}<br>county_lon=%{lon}<extra></extra>",
         "hovertext": [
          "Baldwin County, AL",
          "Escambia County, FL",
          "Harrison County, MS",
          "Jackson County, MS",
          "Mobile County, AL",
          "Monroe County, AL"
         ],
         "lat": [
          30.6592183,
          30.6116382,
          30.4165357,
          30.4560045,
          30.6845725,
          31.5803324
         ],
         "legendgroup": "13",
         "lon": [
          -87.7460666,
          -87.3388996,
          -89.0833762,
          -88.6251005,
          -88.1965682,
          -87.3832656
         ],
         "marker": {
          "color": "rgb(201, 219, 116)",
          "size": [
           1,
           3,
           2,
           1,
           2,
           1
          ],
          "sizemode": "area",
          "sizeref": 0.043333333333333335,
          "symbol": "circle"
         },
         "mode": "markers",
         "name": "13",
         "showlegend": true,
         "type": "scattergeo"
        },
        {
         "geo": "geo",
         "hovertemplate": "<b>%{hovertext}</b><br><br>Cluster=17<br>num_sightings=%{marker.size}<br>county_lat=%{lat}<br>county_lon=%{lon}<extra></extra>",
         "hovertext": [
          "Barry County, MI",
          "Kent County, MI",
          "Newaygo County, MI"
         ],
         "lat": [
          42.5828109,
          43.0324971,
          43.5627117
         ],
         "legendgroup": "17",
         "lon": [
          -85.3145503,
          -85.547446,
          -85.7913723
         ],
         "marker": {
          "color": "rgb(139, 224, 164)",
          "size": [
           1,
           3,
           1
          ],
          "sizemode": "area",
          "sizeref": 0.043333333333333335,
          "symbol": "circle"
         },
         "mode": "markers",
         "name": "17",
         "showlegend": true,
         "type": "scattergeo"
        },
        {
         "geo": "geo",
         "hovertemplate": "<b>%{hovertext}</b><br><br>Cluster=7<br>num_sightings=%{marker.size}<br>county_lat=%{lat}<br>county_lon=%{lon}<extra></extra>",
         "hovertext": [
          "Bates County, MO",
          "Douglas County, KS",
          "Jackson County, MO",
          "Osage County, KS",
          "Wyandotte County, KS"
         ],
         "lat": [
          38.2572171,
          38.8964168,
          39.0053359,
          38.6502149,
          39.1153842
         ],
         "legendgroup": "7",
         "lon": [
          -94.3392459,
          -95.2909475,
          -94.3431655,
          -95.7082554,
          -94.7630866
         ],
         "marker": {
          "color": "rgb(180, 151, 231)",
          "size": [
           2,
           2,
           8,
           1,
           1
          ],
          "sizemode": "area",
          "sizeref": 0.043333333333333335,
          "symbol": "circle"
         },
         "mode": "markers",
         "name": "7",
         "showlegend": true,
         "type": "scattergeo"
        },
        {
         "geo": "geo",
         "hovertemplate": "<b>%{hovertext}</b><br><br>Cluster=4<br>num_sightings=%{marker.size}<br>county_lat=%{lat}<br>county_lon=%{lon}<extra></extra>",
         "hovertext": [
          "Bay County, FL",
          "Brevard County, FL",
          "Broward County, FL",
          "Coffee County, GA",
          "Crisp County, GA",
          "Franklin County, FL",
          "Hernando County, FL",
          "Hillsborough County, FL",
          "Lee County, FL",
          "Leon County, FL",
          "Levy County, FL",
          "Lowndes County, GA",
          "Miami-Dade County, FL",
          "Monroe County, FL",
          "Orange County, FL",
          "Palm Beach County, FL",
          "Pinellas County, FL",
          "Polk County, FL",
          "Sarasota County, FL",
          "Taylor County, FL",
          "Volusia County, FL"
         ],
         "lat": [
          30.2382176,
          28.2983112,
          26.1935353,
          31.5492452,
          31.9151485,
          29.8101756,
          28.5730426,
          27.9066072,
          26.5590348,
          30.4593104,
          29.2844566,
          30.833145,
          25.6105799,
          24.7688833,
          28.5143906,
          26.649125700000003,
          27.9031078,
          27.9536488,
          27.1843855,
          30.0099084,
          29.057769
         ],
         "legendgroup": "4",
         "lon": [
          -85.6316798,
          -80.7003334,
          -80.4766834,
          -82.8449401,
          -83.7535309,
          -84.7991742,
          -82.4662272,
          -82.3497186,
          -81.8919943,
          -84.2778004,
          -82.783462,
          -83.2689952,
          -80.4970989,
          -80.9532703,
          -81.3232839,
          -80.4483542,
          -82.7395188,
          -81.6935337,
          -82.3658351,
          -83.6094825,
          -81.161792
         ],
         "marker": {
          "color": "rgb(179, 179, 179)",
          "size": [
           2,
           4,
           7,
           1,
           1,
           1,
           1,
           1,
           1,
           1,
           1,
           1,
           7,
           2,
           4,
           5,
           3,
           1,
           1,
           1,
           1
          ],
          "sizemode": "area",
          "sizeref": 0.043333333333333335,
          "symbol": "circle"
         },
         "mode": "markers",
         "name": "4",
         "showlegend": true,
         "type": "scattergeo"
        },
        {
         "geo": "geo",
         "hovertemplate": "<b>%{hovertext}</b><br><br>Cluster=6<br>num_sightings=%{marker.size}<br>county_lat=%{lat}<br>county_lon=%{lon}<extra></extra>",
         "hovertext": [
          "Benton County, AR",
          "Carroll County, AR",
          "Greene County, MO",
          "Lonoke County, AR",
          "Pope County, AR",
          "Pulaski County, AR",
          "Sebastian County, AR",
          "Stone County, MO",
          "Washington County, AR",
          "Wright County, MO"
         ],
         "lat": [
          36.3378189,
          36.3373704,
          37.2581957,
          34.7551137,
          35.456557,
          34.7703106,
          35.1969808,
          36.751004,
          35.978001,
          37.2676331
         ],
         "legendgroup": "6",
         "lon": [
          -94.2562984,
          -93.5409718,
          -93.3406409,
          -91.894132,
          -93.0268181,
          -92.312996,
          -94.2749889,
          -93.4737009,
          -94.2172695,
          -92.479989
         ],
         "marker": {
          "color": "rgb(102, 197, 204)",
          "size": [
           1,
           1,
           1,
           1,
           1,
           1,
           1,
           1,
           2,
           1
          ],
          "sizemode": "area",
          "sizeref": 0.043333333333333335,
          "symbol": "circle"
         },
         "mode": "markers",
         "name": "6",
         "showlegend": true,
         "type": "scattergeo"
        },
        {
         "geo": "geo",
         "hovertemplate": "<b>%{hovertext}</b><br><br>Cluster=9<br>num_sightings=%{marker.size}<br>county_lat=%{lat}<br>county_lon=%{lon}<extra></extra>",
         "hovertext": [
          "Benton County, OR",
          "Benton County, WA",
          "Chelan County, WA",
          "Clackamas County, OR",
          "Clark County, WA",
          "Clatsop County, OR",
          "Grant County, WA",
          "Island County, WA",
          "Jackson County, OR",
          "Jefferson County, OR",
          "Jefferson County, WA",
          "King County, WA",
          "Kitsap County, WA",
          "Kittitas County, WA",
          "Lane County, OR",
          "Linn County, OR",
          "Marion County, OR",
          "Multnomah County, OR",
          "Okanogan County, WA",
          "Pierce County, WA",
          "Skagit County, WA",
          "Snohomish County, WA",
          "Stevens County, WA",
          "Thurston County, WA",
          "Tillamook County, OR",
          "Wahkiakum County, WA",
          "Washington County, OR",
          "Whitman County, WA",
          "Yakima County, WA",
          "Yamhill County, OR"
         ],
         "lat": [
          44.4938816,
          46.2281252,
          47.8609739,
          45.1604934,
          45.7717295,
          46.0245094,
          47.2136328,
          48.1585538,
          42.4116214,
          44.6451505,
          47.8057075,
          47.4905993,
          47.6395948,
          47.1244411,
          43.9283286,
          44.4888982,
          44.9008984,
          45.5477107,
          48.5484533,
          47.0514128,
          48.4932917,
          48.070463999999994,
          48.388727,
          46.9358216,
          45.4558895,
          46.2946377,
          45.5535419,
          46.9059441,
          46.4565581,
          45.2478274
         ],
         "legendgroup": "9",
         "lon": [
          -123.4246641,
          -119.5166594,
          -120.619041,
          -122.1951274,
          -122.4859533,
          -123.7050366,
          -119.467788,
          -122.6706492,
          -122.6756106,
          -121.1786315,
          -123.5270572,
          -121.833996,
          -122.6496339,
          -120.6767092,
          -122.8976901,
          -122.5372084,
          -122.5762602,
          -122.4173625,
          -119.7422347,
          -122.15324019999998,
          -121.8157703,
          -121.936784,
          -117.8544544,
          -122.8301524,
          -123.7592988,
          -123.4244583,
          -123.0976146,
          -117.5353898,
          -120.7401446,
          -123.3163993
         ],
         "marker": {
          "color": "rgb(246, 207, 113)",
          "size": [
           1,
           1,
           2,
           2,
           1,
           1,
           1,
           1,
           1,
           1,
           1,
           13,
           4,
           2,
           1,
           1,
           4,
           5,
           1,
           3,
           2,
           6,
           1,
           2,
           1,
           1,
           1,
           1,
           3,
           1
          ],
          "sizemode": "area",
          "sizeref": 0.043333333333333335,
          "symbol": "circle"
         },
         "mode": "markers",
         "name": "9",
         "showlegend": true,
         "type": "scattergeo"
        },
        {
         "geo": "geo",
         "hovertemplate": "<b>%{hovertext}</b><br><br>Cluster=23<br>num_sightings=%{marker.size}<br>county_lat=%{lat}<br>county_lon=%{lon}<extra></extra>",
         "hovertext": [
          "Bernalillo County, NM",
          "Santa Fe County, NM",
          "Valencia County, NM"
         ],
         "lat": [
          35.053628,
          35.5145305,
          34.7168404
         ],
         "legendgroup": "23",
         "lon": [
          -106.6690805,
          -105.96397180000001,
          -106.8065821
         ],
         "marker": {
          "color": "rgb(248, 156, 116)",
          "size": [
           6,
           3,
           1
          ],
          "sizemode": "area",
          "sizeref": 0.043333333333333335,
          "symbol": "circle"
         },
         "mode": "markers",
         "name": "23",
         "showlegend": true,
         "type": "scattergeo"
        },
        {
         "geo": "geo",
         "hovertemplate": "<b>%{hovertext}</b><br><br>Cluster=25<br>num_sightings=%{marker.size}<br>county_lat=%{lat}<br>county_lon=%{lon}<extra></extra>",
         "hovertext": [
          "Boone County, IA",
          "Mahaska County, IA",
          "Polk County, IA",
          "Warren County, IA"
         ],
         "lat": [
          42.038642,
          41.3307969,
          41.6848158,
          41.3324459
         ],
         "legendgroup": "25",
         "lon": [
          -93.938358,
          -92.6363663,
          -93.568971,
          -93.5687512
         ],
         "marker": {
          "color": "rgb(220, 176, 242)",
          "size": [
           1,
           1,
           1,
           1
          ],
          "sizemode": "area",
          "sizeref": 0.043333333333333335,
          "symbol": "circle"
         },
         "mode": "markers",
         "name": "25",
         "showlegend": true,
         "type": "scattergeo"
        },
        {
         "geo": "geo",
         "hovertemplate": "<b>%{hovertext}</b><br><br>Cluster=2<br>num_sightings=%{marker.size}<br>county_lat=%{lat}<br>county_lon=%{lon}<extra></extra>",
         "hovertext": [
          "Boone County, IL",
          "Cook County, IL",
          "Dane County, WI",
          "DuPage County, IL",
          "Kane County, IL",
          "Kankakee County, IL",
          "Knox County, IL",
          "LaSalle County, IL",
          "Lake County, IL",
          "Lee County, IA",
          "McLean County, IL",
          "Peoria County, IL",
          "Porter County, IN",
          "Walworth County, WI",
          "Waukesha County, WI",
          "Winnebago County, IL"
         ],
         "lat": [
          42.3189831,
          41.8942937,
          43.0674684,
          41.8520577,
          41.9395938,
          41.1395105,
          40.9309446,
          41.3433407,
          42.326441,
          40.6475875,
          40.4945594,
          40.7859722,
          41.5099144,
          42.6681095,
          43.0183677,
          42.3373957
         ],
         "legendgroup": "2",
         "lon": [
          -88.8242951,
          -87.6454546,
          -89.4178523,
          -88.0860389,
          -88.4280395,
          -87.8611165,
          -90.2137921,
          -88.8859312,
          -87.435976,
          -91.4771574,
          -88.8445391,
          -89.7669933,
          -87.0713128,
          -88.5417306,
          -88.3042404,
          -89.1612053
         ],
         "marker": {
          "color": "rgb(135, 197, 95)",
          "size": [
           2,
           7,
           1,
           5,
           1,
           1,
           1,
           1,
           1,
           1,
           1,
           2,
           1,
           2,
           2,
           1
          ],
          "sizemode": "area",
          "sizeref": 0.043333333333333335,
          "symbol": "circle"
         },
         "mode": "markers",
         "name": "2",
         "showlegend": true,
         "type": "scattergeo"
        },
        {
         "geo": "geo",
         "hovertemplate": "<b>%{hovertext}</b><br><br>Cluster=11<br>num_sightings=%{marker.size}<br>county_lat=%{lat}<br>county_lon=%{lon}<extra></extra>",
         "hovertext": [
          "Boone County, MO",
          "Callaway County, MO",
          "Greene County, IL",
          "Madison County, IL",
          "Marion County, IL",
          "Richland County, IL",
          "Scott County, MO",
          "St. Charles County, MO",
          "St. Clair County, IL",
          "St. Francois County, MO",
          "St. Louis County, MO",
          "Vigo County, IN",
          "Warren County, MO"
         ],
         "lat": [
          38.9898614,
          38.835547,
          39.3554391,
          38.8271195,
          38.6482361,
          38.7121872,
          37.0477927,
          38.7811023,
          38.4701976,
          37.8107068,
          38.637694520000004,
          39.4291426,
          38.761902
         ],
         "legendgroup": "11",
         "lon": [
          -92.3102022,
          -91.9234458,
          -90.3876823,
          -89.9002267,
          -88.9203624,
          -88.0854523,
          -89.5680975,
          -90.6749153,
          -89.9285459,
          -90.4738684,
          -90.32517820000001,
          -87.3903754,
          -91.1593065
         ],
         "marker": {
          "color": "rgb(158, 185, 243)",
          "size": [
           3,
           1,
           1,
           1,
           1,
           1,
           1,
           3,
           1,
           1,
           5,
           3,
           1
          ],
          "sizemode": "area",
          "sizeref": 0.043333333333333335,
          "symbol": "circle"
         },
         "mode": "markers",
         "name": "11",
         "showlegend": true,
         "type": "scattergeo"
        },
        {
         "geo": "geo",
         "hovertemplate": "<b>%{hovertext}</b><br><br>Cluster=Noise<br>num_sightings=%{marker.size}<br>county_lat=%{lat}<br>county_lon=%{lon}<extra></extra>",
         "hovertext": [
          "Bossier County, LA",
          "Cascade County, MT",
          "Charlottesville County, VA",
          "Chatham County, GA",
          "Chaves County, NM",
          "Chittenden County, VT",
          "Coffee County, AL",
          "Coleman County, TX",
          "Dawson County, MT",
          "El Paso County, TX",
          "Franklin County, AL",
          "Gallatin County, IL",
          "Jackson County, WI",
          "Lawrence County, SD",
          "Livingston County, LA",
          "Lubbock County, TX",
          "Manitowoc County, WI",
          "Minnehaha County, SD",
          "Monroe County, WI",
          "Morton County, ND",
          "Potter County, TX",
          "Reeves County, TX",
          "Richmond County, GA",
          "Scotts Bluff County, NE",
          "Silver Bow County, MT",
          "St. Lawrence County, NY",
          "Tom Green County, TX",
          "Tulsa County, OK",
          "Wichita County, TX"
         ],
         "lat": [
          32.6984813,
          47.3165751,
          38.0376579,
          31.9804037,
          33.3616045,
          44.4633289,
          31.402258,
          31.9142052,
          47.2661301,
          31.7664803,
          34.4419892,
          37.7686768,
          44.3245897,
          44.348767,
          30.4404194,
          33.6114688,
          44.156137,
          43.6674723,
          43.9451751,
          46.7108188,
          35.3986751,
          31.308366,
          33.3614863,
          41.8503306,
          45.8962319,
          44.4881125,
          31.3988233,
          36.1203177,
          33.9882125
         ],
         "legendgroup": "Noise",
         "lon": [
          -93.6265609,
          -111.3502622,
          -78.4853806,
          -81.085184,
          -104.4698374,
          -73.0694099,
          -85.9896022,
          -99.3466223,
          -104.8982713,
          -106.2414235,
          -87.8428144,
          -88.2279642,
          -90.7995104,
          -103.8049474,
          -90.7274738,
          -101.8199438,
          -87.5773525,
          -96.7957261,
          -90.6199687,
          -101.2982647,
          -101.893804,
          -103.712706,
          -82.0749982,
          -103.7015494,
          -112.6600714,
          -75.074311,
          -100.4637879,
          -95.9418132,
          -98.7080098
         ],
         "marker": {
          "color": "rgb(254, 136, 177)",
          "size": [
           1,
           1,
           1,
           1,
           1,
           1,
           1,
           1,
           1,
           1,
           1,
           1,
           1,
           1,
           1,
           1,
           1,
           1,
           1,
           1,
           1,
           1,
           1,
           1,
           1,
           1,
           1,
           2,
           1
          ],
          "sizemode": "area",
          "sizeref": 0.043333333333333335,
          "symbol": "circle"
         },
         "mode": "markers",
         "name": "Noise",
         "showlegend": true,
         "type": "scattergeo"
        },
        {
         "geo": "geo",
         "hovertemplate": "<b>%{hovertext}</b><br><br>Cluster=26<br>num_sightings=%{marker.size}<br>county_lat=%{lat}<br>county_lon=%{lon}<extra></extra>",
         "hovertext": [
          "Cameron County, TX",
          "Hidalgo County, TX"
         ],
         "lat": [
          26.1029227,
          26.3963839
         ],
         "legendgroup": "26",
         "lon": [
          -97.4789584,
          -98.18099
         ],
         "marker": {
          "color": "rgb(201, 219, 116)",
          "size": [
           2,
           1
          ],
          "sizemode": "area",
          "sizeref": 0.043333333333333335,
          "symbol": "circle"
         },
         "mode": "markers",
         "name": "26",
         "showlegend": true,
         "type": "scattergeo"
        },
        {
         "geo": "geo",
         "hovertemplate": "<b>%{hovertext}</b><br><br>Cluster=14<br>num_sightings=%{marker.size}<br>county_lat=%{lat}<br>county_lon=%{lon}<extra></extra>",
         "hovertext": [
          "Cleveland County, OK",
          "Oklahoma County, OK",
          "Pottawatomie County, OK"
         ],
         "lat": [
          35.2063756,
          35.5546109,
          35.2113928
         ],
         "legendgroup": "14",
         "lon": [
          -97.3230884,
          -97.4094007,
          -96.957007
         ],
         "marker": {
          "color": "rgb(139, 224, 164)",
          "size": [
           1,
           4,
           1
          ],
          "sizemode": "area",
          "sizeref": 0.043333333333333335,
          "symbol": "circle"
         },
         "mode": "markers",
         "name": "14",
         "showlegend": true,
         "type": "scattergeo"
        },
        {
         "geo": "geo",
         "hovertemplate": "<b>%{hovertext}</b><br><br>Cluster=12<br>num_sightings=%{marker.size}<br>county_lat=%{lat}<br>county_lon=%{lon}<extra></extra>",
         "hovertext": [
          "Cobb County, GA",
          "DeKalb County, GA",
          "Fayette County, GA",
          "Fulton County, GA"
         ],
         "lat": [
          33.9399298,
          33.7706611,
          33.4127172,
          33.7900338
         ],
         "legendgroup": "12",
         "lon": [
          -84.5741123,
          -84.2263432,
          -84.4939407,
          -84.4681816
         ],
         "marker": {
          "color": "rgb(180, 151, 231)",
          "size": [
           1,
           2,
           1,
           1
          ],
          "sizemode": "area",
          "sizeref": 0.043333333333333335,
          "symbol": "circle"
         },
         "mode": "markers",
         "name": "12",
         "showlegend": true,
         "type": "scattergeo"
        },
        {
         "geo": "geo",
         "hovertemplate": "<b>%{hovertext}</b><br><br>Cluster=22<br>num_sightings=%{marker.size}<br>county_lat=%{lat}<br>county_lon=%{lon}<extra></extra>",
         "hovertext": [
          "Collin County, TX",
          "Dallas County, TX",
          "Denton County, TX",
          "Johnson County, TX",
          "Tarrant County, TX"
         ],
         "lat": [
          33.1945322,
          32.7669866,
          33.205132,
          32.3798207,
          32.7721191
         ],
         "legendgroup": "22",
         "lon": [
          -96.5794437,
          -96.7784238,
          -97.1211403,
          -97.3649587,
          -97.2912241
         ],
         "marker": {
          "color": "rgb(179, 179, 179)",
          "size": [
           1,
           3,
           1,
           1,
           5
          ],
          "sizemode": "area",
          "sizeref": 0.043333333333333335,
          "symbol": "circle"
         },
         "mode": "markers",
         "name": "22",
         "showlegend": true,
         "type": "scattergeo"
        },
        {
         "geo": "geo",
         "hovertemplate": "<b>%{hovertext}</b><br><br>Cluster=24<br>num_sightings=%{marker.size}<br>county_lat=%{lat}<br>county_lon=%{lon}<extra></extra>",
         "hovertext": [
          "Davidson County, TN",
          "Sumner County, TN",
          "Warren County, KY",
          "Williamson County, TN"
         ],
         "lat": [
          36.1691287,
          36.473443,
          36.995634,
          35.8948075
         ],
         "legendgroup": "24",
         "lon": [
          -86.7847898,
          -86.4597975,
          -86.4235786,
          -86.8980679
         ],
         "marker": {
          "color": "rgb(102, 197, 204)",
          "size": [
           3,
           1,
           2,
           2
          ],
          "sizemode": "area",
          "sizeref": 0.043333333333333335,
          "symbol": "circle"
         },
         "mode": "markers",
         "name": "24",
         "showlegend": true,
         "type": "scattergeo"
        },
        {
         "geo": "geo",
         "hovertemplate": "<b>%{hovertext}</b><br><br>Cluster=20<br>num_sightings=%{marker.size}<br>county_lat=%{lat}<br>county_lon=%{lon}<extra></extra>",
         "hovertext": [
          "Douglas County, NE",
          "Pottawattamie County, IA"
         ],
         "lat": [
          41.2970908,
          41.3401835
         ],
         "legendgroup": "20",
         "lon": [
          -96.1540664,
          -95.5449053
         ],
         "marker": {
          "color": "rgb(246, 207, 113)",
          "size": [
           2,
           3
          ],
          "sizemode": "area",
          "sizeref": 0.043333333333333335,
          "symbol": "circle"
         },
         "mode": "markers",
         "name": "20",
         "showlegend": true,
         "type": "scattergeo"
        },
        {
         "geo": "geo",
         "hovertemplate": "<b>%{hovertext}</b><br><br>Cluster=18<br>num_sightings=%{marker.size}<br>county_lat=%{lat}<br>county_lon=%{lon}<extra></extra>",
         "hovertext": [
          "Duval County, FL"
         ],
         "lat": [
          30.335244900000003
         ],
         "legendgroup": "18",
         "lon": [
          -81.6481132
         ],
         "marker": {
          "color": "rgb(248, 156, 116)",
          "size": [
           3
          ],
          "sizemode": "area",
          "sizeref": 0.043333333333333335,
          "symbol": "circle"
         },
         "mode": "markers",
         "name": "18",
         "showlegend": true,
         "type": "scattergeo"
        },
        {
         "geo": "geo",
         "hovertemplate": "<b>%{hovertext}</b><br><br>Cluster=15<br>num_sightings=%{marker.size}<br>county_lat=%{lat}<br>county_lon=%{lon}<extra></extra>",
         "hovertext": [
          "Elkhart County, IN",
          "Hamilton County, IN",
          "Marion County, IN",
          "Miami County, IN"
         ],
         "lat": [
          41.6006928,
          40.053507,
          39.7829759,
          40.7728833
         ],
         "legendgroup": "15",
         "lon": [
          -85.8639864,
          -86.0217126,
          -86.1357939,
          -86.0442575
         ],
         "marker": {
          "color": "rgb(220, 176, 242)",
          "size": [
           1,
           2,
           2,
           1
          ],
          "sizemode": "area",
          "sizeref": 0.043333333333333335,
          "symbol": "circle"
         },
         "mode": "markers",
         "name": "15",
         "showlegend": true,
         "type": "scattergeo"
        },
        {
         "geo": "geo",
         "hovertemplate": "<b>%{hovertext}</b><br><br>Cluster=3<br>num_sightings=%{marker.size}<br>county_lat=%{lat}<br>county_lon=%{lon}<extra></extra>",
         "hovertext": [
          "Flathead County, MT",
          "Glacier County, MT",
          "Lincoln County, MT",
          "Missoula County, MT"
         ],
         "lat": [
          48.3146779,
          48.7056706,
          48.5523847,
          47.0272632
         ],
         "legendgroup": "3",
         "lon": [
          -114.0542951,
          -112.9905023,
          -115.4631849,
          -113.8926911
         ],
         "marker": {
          "color": "rgb(135, 197, 95)",
          "size": [
           2,
           1,
           1,
           1
          ],
          "sizemode": "area",
          "sizeref": 0.043333333333333335,
          "symbol": "circle"
         },
         "mode": "markers",
         "name": "3",
         "showlegend": true,
         "type": "scattergeo"
        },
        {
         "geo": "geo",
         "hovertemplate": "<b>%{hovertext}</b><br><br>Cluster=28<br>num_sightings=%{marker.size}<br>county_lat=%{lat}<br>county_lon=%{lon}<extra></extra>",
         "hovertext": [
          "Hancock County, ME",
          "Sagadahoc County, ME",
          "Somerset County, ME"
         ],
         "lat": [
          44.5649063,
          43.9168446,
          45.5036458
         ],
         "legendgroup": "28",
         "lon": [
          -68.3707034,
          -69.844227,
          -69.9561096
         ],
         "marker": {
          "color": "rgb(158, 185, 243)",
          "size": [
           1,
           1,
           1
          ],
          "sizemode": "area",
          "sizeref": 0.043333333333333335,
          "symbol": "circle"
         },
         "mode": "markers",
         "name": "28",
         "showlegend": true,
         "type": "scattergeo"
        },
        {
         "geo": "geo",
         "hovertemplate": "<b>%{hovertext}</b><br><br>Cluster=27<br>num_sightings=%{marker.size}<br>county_lat=%{lat}<br>county_lon=%{lon}<extra></extra>",
         "hovertext": [
          "Honolulu County, HI",
          "Maui County, HI"
         ],
         "lat": [
          21.5800225,
          20.8559308
         ],
         "legendgroup": "27",
         "lon": [
          -158.1234063,
          -156.6015502
         ],
         "marker": {
          "color": "rgb(254, 136, 177)",
          "size": [
           1,
           3
          ],
          "sizemode": "area",
          "sizeref": 0.043333333333333335,
          "symbol": "circle"
         },
         "mode": "markers",
         "name": "27",
         "showlegend": true,
         "type": "scattergeo"
        },
        {
         "geo": "geo",
         "hovertemplate": "<b>%{hovertext}</b><br><br>Cluster=10<br>num_sightings=%{marker.size}<br>county_lat=%{lat}<br>county_lon=%{lon}<extra></extra>",
         "hovertext": [
          "Jefferson County, AL",
          "Shelby County, AL"
         ],
         "lat": [
          33.5534439,
          33.2630428
         ],
         "legendgroup": "10",
         "lon": [
          -86.8965359,
          -86.6780894
         ],
         "marker": {
          "color": "rgb(201, 219, 116)",
          "size": [
           2,
           1
          ],
          "sizemode": "area",
          "sizeref": 0.043333333333333335,
          "symbol": "circle"
         },
         "mode": "markers",
         "name": "10",
         "showlegend": true,
         "type": "scattergeo"
        },
        {
         "geo": "geo",
         "hovertemplate": "<b>%{hovertext}</b><br><br>Cluster=8<br>num_sightings=%{marker.size}<br>county_lat=%{lat}<br>county_lon=%{lon}<extra></extra>",
         "hovertext": [
          "Panola County, MS",
          "Poinsett County, AR",
          "Shelby County, TN"
         ],
         "lat": [
          34.3652052,
          35.5688702,
          35.1837942
         ],
         "legendgroup": "8",
         "lon": [
          -89.9630654,
          -90.6811037,
          -89.895397
         ],
         "marker": {
          "color": "rgb(139, 224, 164)",
          "size": [
           1,
           2,
           4
          ],
          "sizemode": "area",
          "sizeref": 0.043333333333333335,
          "symbol": "circle"
         },
         "mode": "markers",
         "name": "8",
         "showlegend": true,
         "type": "scattergeo"
        }
       ],
       "layout": {
        "geo": {
         "center": {},
         "domain": {
          "x": [
           0,
           1
          ],
          "y": [
           0,
           1
          ]
         },
         "projection": {
          "type": "albers usa"
         }
        },
        "legend": {
         "itemsizing": "constant",
         "title": {
          "text": "Cluster"
         },
         "tracegroupgap": 0
        },
        "template": {
         "data": {
          "bar": [
           {
            "error_x": {
             "color": "#2a3f5f"
            },
            "error_y": {
             "color": "#2a3f5f"
            },
            "marker": {
             "line": {
              "color": "#E5ECF6",
              "width": 0.5
             },
             "pattern": {
              "fillmode": "overlay",
              "size": 10,
              "solidity": 0.2
             }
            },
            "type": "bar"
           }
          ],
          "barpolar": [
           {
            "marker": {
             "line": {
              "color": "#E5ECF6",
              "width": 0.5
             },
             "pattern": {
              "fillmode": "overlay",
              "size": 10,
              "solidity": 0.2
             }
            },
            "type": "barpolar"
           }
          ],
          "carpet": [
           {
            "aaxis": {
             "endlinecolor": "#2a3f5f",
             "gridcolor": "white",
             "linecolor": "white",
             "minorgridcolor": "white",
             "startlinecolor": "#2a3f5f"
            },
            "baxis": {
             "endlinecolor": "#2a3f5f",
             "gridcolor": "white",
             "linecolor": "white",
             "minorgridcolor": "white",
             "startlinecolor": "#2a3f5f"
            },
            "type": "carpet"
           }
          ],
          "choropleth": [
           {
            "colorbar": {
             "outlinewidth": 0,
             "ticks": ""
            },
            "type": "choropleth"
           }
          ],
          "contour": [
           {
            "colorbar": {
             "outlinewidth": 0,
             "ticks": ""
            },
            "colorscale": [
             [
              0,
              "#0d0887"
             ],
             [
              0.1111111111111111,
              "#46039f"
             ],
             [
              0.2222222222222222,
              "#7201a8"
             ],
             [
              0.3333333333333333,
              "#9c179e"
             ],
             [
              0.4444444444444444,
              "#bd3786"
             ],
             [
              0.5555555555555556,
              "#d8576b"
             ],
             [
              0.6666666666666666,
              "#ed7953"
             ],
             [
              0.7777777777777778,
              "#fb9f3a"
             ],
             [
              0.8888888888888888,
              "#fdca26"
             ],
             [
              1,
              "#f0f921"
             ]
            ],
            "type": "contour"
           }
          ],
          "contourcarpet": [
           {
            "colorbar": {
             "outlinewidth": 0,
             "ticks": ""
            },
            "type": "contourcarpet"
           }
          ],
          "heatmap": [
           {
            "colorbar": {
             "outlinewidth": 0,
             "ticks": ""
            },
            "colorscale": [
             [
              0,
              "#0d0887"
             ],
             [
              0.1111111111111111,
              "#46039f"
             ],
             [
              0.2222222222222222,
              "#7201a8"
             ],
             [
              0.3333333333333333,
              "#9c179e"
             ],
             [
              0.4444444444444444,
              "#bd3786"
             ],
             [
              0.5555555555555556,
              "#d8576b"
             ],
             [
              0.6666666666666666,
              "#ed7953"
             ],
             [
              0.7777777777777778,
              "#fb9f3a"
             ],
             [
              0.8888888888888888,
              "#fdca26"
             ],
             [
              1,
              "#f0f921"
             ]
            ],
            "type": "heatmap"
           }
          ],
          "heatmapgl": [
           {
            "colorbar": {
             "outlinewidth": 0,
             "ticks": ""
            },
            "colorscale": [
             [
              0,
              "#0d0887"
             ],
             [
              0.1111111111111111,
              "#46039f"
             ],
             [
              0.2222222222222222,
              "#7201a8"
             ],
             [
              0.3333333333333333,
              "#9c179e"
             ],
             [
              0.4444444444444444,
              "#bd3786"
             ],
             [
              0.5555555555555556,
              "#d8576b"
             ],
             [
              0.6666666666666666,
              "#ed7953"
             ],
             [
              0.7777777777777778,
              "#fb9f3a"
             ],
             [
              0.8888888888888888,
              "#fdca26"
             ],
             [
              1,
              "#f0f921"
             ]
            ],
            "type": "heatmapgl"
           }
          ],
          "histogram": [
           {
            "marker": {
             "pattern": {
              "fillmode": "overlay",
              "size": 10,
              "solidity": 0.2
             }
            },
            "type": "histogram"
           }
          ],
          "histogram2d": [
           {
            "colorbar": {
             "outlinewidth": 0,
             "ticks": ""
            },
            "colorscale": [
             [
              0,
              "#0d0887"
             ],
             [
              0.1111111111111111,
              "#46039f"
             ],
             [
              0.2222222222222222,
              "#7201a8"
             ],
             [
              0.3333333333333333,
              "#9c179e"
             ],
             [
              0.4444444444444444,
              "#bd3786"
             ],
             [
              0.5555555555555556,
              "#d8576b"
             ],
             [
              0.6666666666666666,
              "#ed7953"
             ],
             [
              0.7777777777777778,
              "#fb9f3a"
             ],
             [
              0.8888888888888888,
              "#fdca26"
             ],
             [
              1,
              "#f0f921"
             ]
            ],
            "type": "histogram2d"
           }
          ],
          "histogram2dcontour": [
           {
            "colorbar": {
             "outlinewidth": 0,
             "ticks": ""
            },
            "colorscale": [
             [
              0,
              "#0d0887"
             ],
             [
              0.1111111111111111,
              "#46039f"
             ],
             [
              0.2222222222222222,
              "#7201a8"
             ],
             [
              0.3333333333333333,
              "#9c179e"
             ],
             [
              0.4444444444444444,
              "#bd3786"
             ],
             [
              0.5555555555555556,
              "#d8576b"
             ],
             [
              0.6666666666666666,
              "#ed7953"
             ],
             [
              0.7777777777777778,
              "#fb9f3a"
             ],
             [
              0.8888888888888888,
              "#fdca26"
             ],
             [
              1,
              "#f0f921"
             ]
            ],
            "type": "histogram2dcontour"
           }
          ],
          "mesh3d": [
           {
            "colorbar": {
             "outlinewidth": 0,
             "ticks": ""
            },
            "type": "mesh3d"
           }
          ],
          "parcoords": [
           {
            "line": {
             "colorbar": {
              "outlinewidth": 0,
              "ticks": ""
             }
            },
            "type": "parcoords"
           }
          ],
          "pie": [
           {
            "automargin": true,
            "type": "pie"
           }
          ],
          "scatter": [
           {
            "fillpattern": {
             "fillmode": "overlay",
             "size": 10,
             "solidity": 0.2
            },
            "type": "scatter"
           }
          ],
          "scatter3d": [
           {
            "line": {
             "colorbar": {
              "outlinewidth": 0,
              "ticks": ""
             }
            },
            "marker": {
             "colorbar": {
              "outlinewidth": 0,
              "ticks": ""
             }
            },
            "type": "scatter3d"
           }
          ],
          "scattercarpet": [
           {
            "marker": {
             "colorbar": {
              "outlinewidth": 0,
              "ticks": ""
             }
            },
            "type": "scattercarpet"
           }
          ],
          "scattergeo": [
           {
            "marker": {
             "colorbar": {
              "outlinewidth": 0,
              "ticks": ""
             }
            },
            "type": "scattergeo"
           }
          ],
          "scattergl": [
           {
            "marker": {
             "colorbar": {
              "outlinewidth": 0,
              "ticks": ""
             }
            },
            "type": "scattergl"
           }
          ],
          "scattermapbox": [
           {
            "marker": {
             "colorbar": {
              "outlinewidth": 0,
              "ticks": ""
             }
            },
            "type": "scattermapbox"
           }
          ],
          "scatterpolar": [
           {
            "marker": {
             "colorbar": {
              "outlinewidth": 0,
              "ticks": ""
             }
            },
            "type": "scatterpolar"
           }
          ],
          "scatterpolargl": [
           {
            "marker": {
             "colorbar": {
              "outlinewidth": 0,
              "ticks": ""
             }
            },
            "type": "scatterpolargl"
           }
          ],
          "scatterternary": [
           {
            "marker": {
             "colorbar": {
              "outlinewidth": 0,
              "ticks": ""
             }
            },
            "type": "scatterternary"
           }
          ],
          "surface": [
           {
            "colorbar": {
             "outlinewidth": 0,
             "ticks": ""
            },
            "colorscale": [
             [
              0,
              "#0d0887"
             ],
             [
              0.1111111111111111,
              "#46039f"
             ],
             [
              0.2222222222222222,
              "#7201a8"
             ],
             [
              0.3333333333333333,
              "#9c179e"
             ],
             [
              0.4444444444444444,
              "#bd3786"
             ],
             [
              0.5555555555555556,
              "#d8576b"
             ],
             [
              0.6666666666666666,
              "#ed7953"
             ],
             [
              0.7777777777777778,
              "#fb9f3a"
             ],
             [
              0.8888888888888888,
              "#fdca26"
             ],
             [
              1,
              "#f0f921"
             ]
            ],
            "type": "surface"
           }
          ],
          "table": [
           {
            "cells": {
             "fill": {
              "color": "#EBF0F8"
             },
             "line": {
              "color": "white"
             }
            },
            "header": {
             "fill": {
              "color": "#C8D4E3"
             },
             "line": {
              "color": "white"
             }
            },
            "type": "table"
           }
          ]
         },
         "layout": {
          "annotationdefaults": {
           "arrowcolor": "#2a3f5f",
           "arrowhead": 0,
           "arrowwidth": 1
          },
          "autotypenumbers": "strict",
          "coloraxis": {
           "colorbar": {
            "outlinewidth": 0,
            "ticks": ""
           }
          },
          "colorscale": {
           "diverging": [
            [
             0,
             "#8e0152"
            ],
            [
             0.1,
             "#c51b7d"
            ],
            [
             0.2,
             "#de77ae"
            ],
            [
             0.3,
             "#f1b6da"
            ],
            [
             0.4,
             "#fde0ef"
            ],
            [
             0.5,
             "#f7f7f7"
            ],
            [
             0.6,
             "#e6f5d0"
            ],
            [
             0.7,
             "#b8e186"
            ],
            [
             0.8,
             "#7fbc41"
            ],
            [
             0.9,
             "#4d9221"
            ],
            [
             1,
             "#276419"
            ]
           ],
           "sequential": [
            [
             0,
             "#0d0887"
            ],
            [
             0.1111111111111111,
             "#46039f"
            ],
            [
             0.2222222222222222,
             "#7201a8"
            ],
            [
             0.3333333333333333,
             "#9c179e"
            ],
            [
             0.4444444444444444,
             "#bd3786"
            ],
            [
             0.5555555555555556,
             "#d8576b"
            ],
            [
             0.6666666666666666,
             "#ed7953"
            ],
            [
             0.7777777777777778,
             "#fb9f3a"
            ],
            [
             0.8888888888888888,
             "#fdca26"
            ],
            [
             1,
             "#f0f921"
            ]
           ],
           "sequentialminus": [
            [
             0,
             "#0d0887"
            ],
            [
             0.1111111111111111,
             "#46039f"
            ],
            [
             0.2222222222222222,
             "#7201a8"
            ],
            [
             0.3333333333333333,
             "#9c179e"
            ],
            [
             0.4444444444444444,
             "#bd3786"
            ],
            [
             0.5555555555555556,
             "#d8576b"
            ],
            [
             0.6666666666666666,
             "#ed7953"
            ],
            [
             0.7777777777777778,
             "#fb9f3a"
            ],
            [
             0.8888888888888888,
             "#fdca26"
            ],
            [
             1,
             "#f0f921"
            ]
           ]
          },
          "colorway": [
           "#636efa",
           "#EF553B",
           "#00cc96",
           "#ab63fa",
           "#FFA15A",
           "#19d3f3",
           "#FF6692",
           "#B6E880",
           "#FF97FF",
           "#FECB52"
          ],
          "font": {
           "color": "#2a3f5f"
          },
          "geo": {
           "bgcolor": "white",
           "lakecolor": "white",
           "landcolor": "#E5ECF6",
           "showlakes": true,
           "showland": true,
           "subunitcolor": "white"
          },
          "hoverlabel": {
           "align": "left"
          },
          "hovermode": "closest",
          "mapbox": {
           "style": "light"
          },
          "paper_bgcolor": "white",
          "plot_bgcolor": "#E5ECF6",
          "polar": {
           "angularaxis": {
            "gridcolor": "white",
            "linecolor": "white",
            "ticks": ""
           },
           "bgcolor": "#E5ECF6",
           "radialaxis": {
            "gridcolor": "white",
            "linecolor": "white",
            "ticks": ""
           }
          },
          "scene": {
           "xaxis": {
            "backgroundcolor": "#E5ECF6",
            "gridcolor": "white",
            "gridwidth": 2,
            "linecolor": "white",
            "showbackground": true,
            "ticks": "",
            "zerolinecolor": "white"
           },
           "yaxis": {
            "backgroundcolor": "#E5ECF6",
            "gridcolor": "white",
            "gridwidth": 2,
            "linecolor": "white",
            "showbackground": true,
            "ticks": "",
            "zerolinecolor": "white"
           },
           "zaxis": {
            "backgroundcolor": "#E5ECF6",
            "gridcolor": "white",
            "gridwidth": 2,
            "linecolor": "white",
            "showbackground": true,
            "ticks": "",
            "zerolinecolor": "white"
           }
          },
          "shapedefaults": {
           "line": {
            "color": "#2a3f5f"
           }
          },
          "ternary": {
           "aaxis": {
            "gridcolor": "white",
            "linecolor": "white",
            "ticks": ""
           },
           "baxis": {
            "gridcolor": "white",
            "linecolor": "white",
            "ticks": ""
           },
           "bgcolor": "#E5ECF6",
           "caxis": {
            "gridcolor": "white",
            "linecolor": "white",
            "ticks": ""
           }
          },
          "title": {
           "x": 0.05
          },
          "xaxis": {
           "automargin": true,
           "gridcolor": "white",
           "linecolor": "white",
           "ticks": "",
           "title": {
            "standoff": 15
           },
           "zerolinecolor": "white",
           "zerolinewidth": 2
          },
          "yaxis": {
           "automargin": true,
           "gridcolor": "white",
           "linecolor": "white",
           "ticks": "",
           "title": {
            "standoff": 15
           },
           "zerolinecolor": "white",
           "zerolinewidth": 2
          }
         }
        },
        "title": {
         "text": "Chevron Shaped UFO Sightings by County in the US (Clustered)"
        },
        "width": 600
       }
      }
     },
     "metadata": {},
     "output_type": "display_data"
    }
   ],
   "source": [
    "# Bubble Map\n",
    "fig = px.scatter_geo(df_agg,\n",
    "                    lat='county_lat',\n",
    "                    lon='county_lon',\n",
    "                    size='num_sightings',\n",
    "                    color='Cluster',\n",
    "                    hover_name='county_state',\n",
    "                    projection=\"albers usa\",\n",
    "                    title=\"Chevron Shaped UFO Sightings by County in the US (Clustered)\",\n",
    "                    size_max=30,\n",
    "                    color_discrete_sequence=px.colors.qualitative.Pastel,\n",
    "                    width=600,\n",
    "                    )\n",
    "fig.show()"
   ]
  },
  {
   "cell_type": "code",
   "execution_count": null,
   "id": "bdd0ae35",
   "metadata": {},
   "outputs": [],
   "source": []
  },
  {
   "cell_type": "code",
   "execution_count": null,
   "id": "5ece6f7b",
   "metadata": {},
   "outputs": [],
   "source": []
  },
  {
   "cell_type": "code",
   "execution_count": null,
   "id": "bf204291",
   "metadata": {},
   "outputs": [],
   "source": []
  },
  {
   "cell_type": "code",
   "execution_count": null,
   "id": "3014654a",
   "metadata": {},
   "outputs": [],
   "source": []
  }
 ],
 "metadata": {
  "kernelspec": {
   "display_name": "base",
   "language": "python",
   "name": "python3"
  },
  "language_info": {
   "codemirror_mode": {
    "name": "ipython",
    "version": 3
   },
   "file_extension": ".py",
   "mimetype": "text/x-python",
   "name": "python",
   "nbconvert_exporter": "python",
   "pygments_lexer": "ipython3",
   "version": "3.9.7"
  }
 },
 "nbformat": 4,
 "nbformat_minor": 5
}
